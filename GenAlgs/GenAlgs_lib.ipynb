{
 "cells": [
  {
   "cell_type": "markdown",
   "metadata": {},
   "source": [
    "# Genetic Algorithms\n",
    "### Using libraries : $\\textit{x}$"
   ]
  },
  {
   "cell_type": "markdown",
   "metadata": {},
   "source": [
    "## Imports"
   ]
  },
  {
   "cell_type": "code",
   "execution_count": null,
   "metadata": {},
   "outputs": [],
   "source": [
    "from utilities.std_imports import *\n",
    "import math\n",
    "from pyvolution.EvolutionManager import *\n",
    "from pyvolution.GeneLibrary import *"
   ]
  },
  {
   "cell_type": "markdown",
   "metadata": {},
   "source": [
    "## Testing"
   ]
  },
  {
   "cell_type": "code",
   "execution_count": null,
   "metadata": {},
   "outputs": [],
   "source": [
    "\"\"\"\n",
    "This example attempts to find a solution to the following system of equations:\n",
    "a + b + c + d - 17 = 0\n",
    "a^2 + b^2 - 5 = 0\n",
    "sin(a) + c - d - 20 = 0\n",
    "\"\"\"\n",
    "\n",
    "def fitnessFunction(chromosome):\n",
    "    \"\"\"\n",
    "    Given a \"chromosome\", this function must determine its fitness score\n",
    "     The fitness score should be a floating point value.  If the fitness is zero or smaller\n",
    "     then the chromosome will not be allowed to \"reproduce\"\n",
    "    \"\"\"\n",
    "\n",
    "    #you can access the attributes of a chromosome using square brackets\n",
    "    #the key is the description of the gene\n",
    "    a = chromosome[\"a\"]\n",
    "    b = chromosome[\"b\"]\n",
    "    c = chromosome[\"c\"]\n",
    "    d = chromosome[\"d\"]\n",
    "\n",
    "    #for a perfect solution each of the values will be zero\n",
    "    val1 = math.fabs(a + b + c + d - 17)\n",
    "    val2 = math.fabs(math.pow(a, 2) + math.pow(b, 2) - 5)\n",
    "    val3 = math.sin(a) + c - d - 20\n",
    "\n",
    "    #minimize the \"distance\", this gives a better fitness estimate than summing the values\n",
    "    dist = math.sqrt(math.pow(val1, 2) + math.pow(val2, 2) + math.pow(val3, 2))\n",
    "\n",
    "    #number returned must be a positive floating point value\n",
    "    if dist != 0:\n",
    "        return 1 / dist #lower dist means better fitness, the closer to a good solution the higher this will be\n",
    "    else:\n",
    "        return None     #returning None indicates that a perfect solution has been found\n",
    "\n",
    "\n",
    "#configure the evolution manager as you see fit\n",
    "#see EvolutionManager.py for documentation on the arguments for this class\n",
    "em = EvolutionManager(fitnessFunction,\n",
    "                      individualsPerGeneration=100,\n",
    "                      mutationRate=0.2,  #a mutation rate of 0.2 means that 20% of the genes will be mutated each round\n",
    "                      maxGenerations=1000)\n",
    "\n",
    "#standard floating point genes\n",
    "#The values of the genes in the first generation are chosen randomly in a gaussian distribution.\n",
    "#generatorAverage and generatorSTDEV describe the gaussian distribution\n",
    "#When a gene mutates, the amount that it changes by is also chosen from a gaussian distribution with\n",
    "#a standard deviation of mutationSTDEV\n",
    "atype = FloatGeneType(\"a\", generatorAverage=0, generatorSTDEV=100, mutationSTDEV=1.0)\n",
    "btype = FloatGeneType(\"b\", generatorAverage=0, generatorSTDEV=100, mutationSTDEV=1.0)\n",
    "ctype = FloatGeneType(\"c\", generatorAverage=0, generatorSTDEV=100, mutationSTDEV=1.0)\n",
    "dtype = FloatGeneType(\"d\", generatorAverage=0, generatorSTDEV=100, mutationSTDEV=1.0)\n",
    "\n",
    "em.addGeneType(atype)\n",
    "em.addGeneType(btype)\n",
    "em.addGeneType(ctype)\n",
    "em.addGeneType(dtype)\n",
    "\n",
    "result = em.run()"
   ]
  },
  {
   "cell_type": "code",
   "execution_count": null,
   "metadata": {},
   "outputs": [],
   "source": []
  }
 ],
 "metadata": {
  "kernelspec": {
   "display_name": "Python 3",
   "language": "python",
   "name": "python3"
  },
  "language_info": {
   "codemirror_mode": {
    "name": "ipython",
    "version": 3
   },
   "file_extension": ".py",
   "mimetype": "text/x-python",
   "name": "python",
   "nbconvert_exporter": "python",
   "pygments_lexer": "ipython3",
   "version": "3.8.6"
  }
 },
 "nbformat": 4,
 "nbformat_minor": 4
}
