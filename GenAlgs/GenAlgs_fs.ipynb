{
 "cells": [
  {
   "cell_type": "markdown",
   "metadata": {},
   "source": [
    "# Genetic Algorithms\n",
    "### From scratch"
   ]
  },
  {
   "cell_type": "markdown",
   "metadata": {},
   "source": [
    " ![](ga.png)"
   ]
  },
  {
   "cell_type": "markdown",
   "metadata": {},
   "source": [
    " ![](gaProcess.gif)"
   ]
  },
  {
   "cell_type": "markdown",
   "metadata": {},
   "source": [
    "## Imports"
   ]
  },
  {
   "cell_type": "code",
   "execution_count": 1,
   "metadata": {},
   "outputs": [],
   "source": [
    "import random\n",
    "import numpy as np"
   ]
  },
  {
   "cell_type": "markdown",
   "metadata": {},
   "source": [
    "## 1. Conversion methods"
   ]
  },
  {
   "cell_type": "code",
   "execution_count": 2,
   "metadata": {},
   "outputs": [],
   "source": [
    "random.seed(11)\n",
    "np.random.seed(11)\n",
    "\n",
    "def to_binary(i, n):\n",
    "    b = '{0:b}'.format(i)\n",
    "    while len(b) < n:\n",
    "        b = '0' + b\n",
    "    return b\n",
    "\n",
    "def to_int(b):\n",
    "    return int(b, 2)\n",
    "\n",
    "## test to verify,\n",
    "##    in: 4 -> in: '00100' -> out: 4\n",
    "assert to_int(to_binary(4, 5)) == 4"
   ]
  },
  {
   "cell_type": "markdown",
   "metadata": {},
   "source": [
    "## 2. Crossover"
   ]
  },
  {
   "cell_type": "code",
   "execution_count": 3,
   "metadata": {},
   "outputs": [],
   "source": [
    "def crossover(i1, i2):\n",
    "    assert len(i1) == len(i2)\n",
    "    n = len(i1); split_index = random.randint(0+1, n-1)\n",
    "    return '{}{}'.format(i1[:split_index], i2[split_index:]), \\\n",
    "           '{}{}'.format(i1[split_index:], i2[:split_index])\n",
    "\n",
    "## in: ('00010', '11000') out: ('00|000', '010|11') with split at 2."
   ]
  },
  {
   "cell_type": "markdown",
   "metadata": {},
   "source": [
    "## 3. Mutations"
   ]
  },
  {
   "cell_type": "code",
   "execution_count": 4,
   "metadata": {},
   "outputs": [],
   "source": [
    "def mutate(i1, threshold):\n",
    "    def swap_bit(c):\n",
    "        if c == '0':\n",
    "            return '1'\n",
    "        return '0'\n",
    "    \n",
    "    return ''.join([ \\\n",
    "        swap_bit(c) if random.uniform(0, 1) <= threshold \\\n",
    "                    else c for c in i1 \\\n",
    "    ])"
   ]
  },
  {
   "cell_type": "markdown",
   "metadata": {},
   "source": [
    "## 4. Rank population"
   ]
  },
  {
   "cell_type": "code",
   "execution_count": 5,
   "metadata": {},
   "outputs": [],
   "source": [
    "def ranking_population(individuals):\n",
    "    def calc_fitness(i1):\n",
    "        ## as defined in the text = (1000 - | v^2 - 64 | )\n",
    "        return 1000 - abs(to_int(i1)**2 - 64)\n",
    "    \n",
    "    return sorted( \\\n",
    "        [(i, calc_fitness(i)) for i in individuals], \\\n",
    "        key=lambda x: x[1], reverse=True)"
   ]
  },
  {
   "cell_type": "markdown",
   "metadata": {},
   "source": [
    "## Testing"
   ]
  },
  {
   "cell_type": "code",
   "execution_count": 13,
   "metadata": {},
   "outputs": [
    {
     "name": "stdout",
     "output_type": "stream",
     "text": [
      "['01011', '11011', '00001', '00100']\n"
     ]
    }
   ],
   "source": [
    "n = 5\n",
    "min_val = to_int('0'*n)  ## '00000'\n",
    "max_val = to_int('1'*n)  ## '11111'\n",
    "\n",
    "n_individuals = 4\n",
    "individual_indexes = list(range(0, n_individuals))\n",
    "population = [ to_binary(random.randint(min_val, max_val), 5) for i in range(0, n_individuals) ]\n",
    "\n",
    "print(population)"
   ]
  },
  {
   "cell_type": "code",
   "execution_count": 14,
   "metadata": {},
   "outputs": [
    {
     "name": "stdout",
     "output_type": "stream",
     "text": [
      "['00111', '00111', '11111', '00100']\n",
      "[13  6]\n"
     ]
    }
   ],
   "source": [
    "n_matings = 5\n",
    "n_iterations = 1000\n",
    "mutation_threshold = .01\n",
    "\n",
    "for iteration in range(0, n_iterations):\n",
    "    \n",
    "    new_population = population.copy()\n",
    "    \n",
    "    ## crossovers\n",
    "    for _ in range(0, n_matings):\n",
    "        items_to_mate = np.random.choice( individual_indexes, size=2, replace=False)\n",
    "        i1, i2 = crossover( population[items_to_mate[0]], population[items_to_mate[1]])\n",
    "        new_population.append(i1)\n",
    "        new_population.append(i2)\n",
    "        \n",
    "    ## mutates    \n",
    "    for individual in new_population:\n",
    "        individual = mutate(individual, mutation_threshold)\n",
    "        \n",
    "    ## rank the individuals in the population\n",
    "    ranked_population = ranking_population(new_population)\n",
    "    \n",
    "    if ranked_population[0][1] == 1000:\n",
    "        ### optimal found,\n",
    "        break\n",
    "    \n",
    "    ## figure out the individuals that survived?\n",
    "    \n",
    "    ### take the top 2,\n",
    "    population = [ranked_population[0][0], ranked_population[1][0]]\n",
    "    \n",
    "    ### allow the others to fight it out,\n",
    "    survivors = np.random.choice( range(2, len(ranked_population)), size=2, replace=False)\n",
    "    for i in survivors:\n",
    "        population.append(ranked_population[i][0])\n",
    "\n",
    "print(survivors)"
   ]
  },
  {
   "cell_type": "code",
   "execution_count": null,
   "metadata": {},
   "outputs": [],
   "source": []
  }
 ],
 "metadata": {
  "kernelspec": {
   "display_name": "Python 3",
   "language": "python",
   "name": "python3"
  },
  "language_info": {
   "codemirror_mode": {
    "name": "ipython",
    "version": 3
   },
   "file_extension": ".py",
   "mimetype": "text/x-python",
   "name": "python",
   "nbconvert_exporter": "python",
   "pygments_lexer": "ipython3",
   "version": "3.6.6"
  }
 },
 "nbformat": 4,
 "nbformat_minor": 2
}
