{
 "cells": [
  {
   "cell_type": "markdown",
   "metadata": {},
   "source": [
    "# Reinforcement Learning : Qlearn\n",
    "### From scratch"
   ]
  },
  {
   "cell_type": "markdown",
   "metadata": {},
   "source": [
    "## Imports"
   ]
  },
  {
   "cell_type": "code",
   "execution_count": 37,
   "metadata": {},
   "outputs": [],
   "source": [
    "from utilities.std_imports import *\n",
    "from IPython.display import Image"
   ]
  },
  {
   "cell_type": "markdown",
   "metadata": {},
   "source": [
    "The Q-Table is a simple lookup table to calculate the maximum expected future rewards for action at each state. "
   ]
  },
  {
   "cell_type": "code",
   "execution_count": 38,
   "metadata": {},
   "outputs": [
    {
     "data": {
      "image/png": "[encoded data removed]",
      "text/plain": [
       "<IPython.core.display.Image object>"
      ]
     },
     "execution_count": 38,
     "metadata": {},
     "output_type": "execute_result"
    }
   ],
   "source": [
    "Image(\"diagrams/block_diagram.png\")"
   ]
  },
  {
   "cell_type": "markdown",
   "metadata": {},
   "source": [
    "Q Table definition:  \n",
    "  \n",
    "$ \\large Q^{\\pi}(s_t, a_t) = E[R_{t+1} + \\gamma R_{t+2} + \\gamma^2 R_{t+3} + ... | s_t, a_t] $"
   ]
  },
  {
   "cell_type": "markdown",
   "metadata": {},
   "source": [
    "Q Function iterative step is the weighted average of the old value and the new information:   \n",
    "  \n",
    "$ \\large s_t $ : state at time t   \n",
    "$ \\large a_t $ : action at time t    \n",
    "$ \\large r_t $ : reward at time t  \n",
    "$ \\large \\alpha $ : learning rate. Determines to what extent newly acquired information overrides old information      \n",
    "$ \\large \\gamma $ : discount factor. Determines the importance of future rewards (0 is short-sighted, 1 long-sighted)   \n",
    "  \n",
    "$ \\large Q(s_t, a_t) = (1-\\alpha) \\; Q(s_t, a_t) + \\alpha \\; [\\; r_{t+1} + \\gamma \\max_a Q(s_{t+1}, a) \\; ]$"
   ]
  },
  {
   "cell_type": "markdown",
   "metadata": {},
   "source": [
    "## Function definitions"
   ]
  },
  {
   "cell_type": "code",
   "execution_count": 57,
   "metadata": {},
   "outputs": [],
   "source": [
    "# Returns all available actions in the state given as an argument\n",
    "def available_actions(state):\n",
    "    state_row = R[state,]\n",
    "    av_act = np.where(state_row >= 0)[1]\n",
    "    return av_act\n",
    "\n",
    "# Chooses at random which action to be performed within the range of all the available actions\n",
    "def sample_next_action(available_actions_range):\n",
    "    next_action = int(np.random.choice(available_act,1))\n",
    "    return next_action\n",
    "\n",
    "# Updates the Q matrix according to the path selected and the Q learning algorithm\n",
    "def update(state, action, alpha, gamma):\n",
    "    \n",
    "    max_index = np.where(Q[action,] == np.max(Q[action,]))[1]\n",
    "\n",
    "    if max_index.shape[0] > 1:\n",
    "        max_index = int(np.random.choice(max_index, size = 1))\n",
    "    else:\n",
    "        max_index = int(max_index)\n",
    "    \n",
    "    max_value = Q[action, max_index]\n",
    "    \n",
    "    # Q learning formula\n",
    "    #Q[state, action] = R[state, action] + gamma * max_value\n",
    "    Q[state, action] = (1-alpha) * Q[state, action] + alpha * ( R[state, action] + gamma * max_value )"
   ]
  },
  {
   "cell_type": "markdown",
   "metadata": {},
   "source": [
    "## Load data"
   ]
  },
  {
   "cell_type": "code",
   "execution_count": 68,
   "metadata": {},
   "outputs": [
    {
     "data": {
      "image/png": "[encoded data removed]",
      "text/plain": [
       "<IPython.core.display.Image object>"
      ]
     },
     "execution_count": 68,
     "metadata": {},
     "output_type": "execute_result"
    }
   ],
   "source": [
    "Image(\"diagrams/qlearning.png\")"
   ]
  },
  {
   "cell_type": "markdown",
   "metadata": {},
   "source": [
    "So here is a Graph where we want to find the best path. The reward matrix R is the adjacency matrix in this case."
   ]
  },
  {
   "cell_type": "code",
   "execution_count": 64,
   "metadata": {},
   "outputs": [
    {
     "data": {
      "text/plain": [
       "matrix([[ -1,  -1,  -1,  -1,   0,  -1],\n",
       "        [ -1,  -1,  -1,   0,  -1, 100],\n",
       "        [ -1,  -1,  -1,   0,  -1,  -1],\n",
       "        [ -1,   0,   0,  -1,   0,  -1],\n",
       "        [ -1,   0,   0,  -1,  -1, 100],\n",
       "        [ -1,   0,  -1,  -1,   0, 100]])"
      ]
     },
     "execution_count": 64,
     "metadata": {},
     "output_type": "execute_result"
    }
   ],
   "source": [
    "# R matrix\n",
    "R = np.matrix([ [-1,-1,-1,-1,0,-1],\n",
    "        [-1,-1,-1,0,-1,100],\n",
    "        [-1,-1,-1,0,-1,-1],\n",
    "        [-1,0,0,-1,0,-1],\n",
    "        [-1,0,0,-1,-1,100],\n",
    "        [-1,0,-1,-1,0,100] ])\n",
    "\n",
    "# Q matrix\n",
    "Q = np.matrix(np.zeros([6,6]))\n",
    "\n",
    "# Gamma (learning parameter).\n",
    "alpha = 0.4\n",
    "gamma = 0.8\n",
    "R"
   ]
  },
  {
   "cell_type": "markdown",
   "metadata": {},
   "source": [
    "## Initialization"
   ]
  },
  {
   "cell_type": "code",
   "execution_count": 59,
   "metadata": {},
   "outputs": [],
   "source": [
    "# Initial state. (Usually to be chosen at random)\n",
    "initial_state = 1\n",
    "\n",
    "# Get available actions in the current state\n",
    "available_act = available_actions(initial_state) \n",
    "\n",
    "# Sample next action to be performed\n",
    "action = sample_next_action(available_act)\n",
    "\n",
    "# Update Q matrix\n",
    "update(initial_state, action, alpha, gamma)"
   ]
  },
  {
   "cell_type": "markdown",
   "metadata": {},
   "source": [
    "## Train"
   ]
  },
  {
   "cell_type": "code",
   "execution_count": 61,
   "metadata": {},
   "outputs": [
    {
     "name": "stdout",
     "output_type": "stream",
     "text": [
      "Trained Q matrix:\n",
      " [[  0.    0.    0.    0.   80.    0. ]\n",
      " [  0.    0.    0.   64.    0.  100. ]\n",
      " [  0.    0.    0.   64.    0.    0. ]\n",
      " [  0.   80.   51.2   0.   80.    0. ]\n",
      " [  0.   80.   51.2   0.    0.  100. ]\n",
      " [  0.   80.    0.    0.   80.  100. ]]\n"
     ]
    }
   ],
   "source": [
    "# Train over 10 000 iterations. (Re-iterate the process above).\n",
    "for i in range(10000):\n",
    "    current_state = np.random.randint(0, int(Q.shape[0]))\n",
    "    available_act = available_actions(current_state)\n",
    "    action = sample_next_action(available_act)\n",
    "    update(current_state, action, alpha, gamma)\n",
    "    \n",
    "# Normalize the \"trained\" Q matrix\n",
    "print(\"Trained Q matrix:\\n\", Q/np.max(Q) * 100)"
   ]
  },
  {
   "cell_type": "markdown",
   "metadata": {},
   "source": [
    "### Run and print results"
   ]
  },
  {
   "cell_type": "code",
   "execution_count": 62,
   "metadata": {},
   "outputs": [
    {
     "name": "stdout",
     "output_type": "stream",
     "text": [
      "Selected path:\n",
      " [2, 3, 1, 5]\n"
     ]
    }
   ],
   "source": [
    "# Goal state = 5\n",
    "# Best sequence path starting from 2 -> 2, 3, 1, 5\n",
    "\n",
    "current_state = 2\n",
    "steps = [current_state]\n",
    "\n",
    "while current_state != 5:\n",
    "\n",
    "    next_step_index = np.where(Q[current_state,] == np.max(Q[current_state,]))[1]\n",
    "    \n",
    "    if next_step_index.shape[0] > 1:\n",
    "        next_step_index = int(np.random.choice(next_step_index, size = 1))\n",
    "    else:\n",
    "        next_step_index = int(next_step_index)\n",
    "    \n",
    "    steps.append(next_step_index)\n",
    "    current_state = next_step_index\n",
    "\n",
    "# Print selected sequence of steps\n",
    "print(\"Selected path:\\n\", steps)"
   ]
  },
  {
   "cell_type": "markdown",
   "metadata": {},
   "source": [
    "## Credits & Links"
   ]
  },
  {
   "cell_type": "markdown",
   "metadata": {},
   "source": [
    "https://firsttimeprogrammer.blogspot.com/2016/09/getting-ai-smarter-with-q-learning.html#more"
   ]
  }
 ],
 "metadata": {
  "kernelspec": {
   "display_name": "Python 3",
   "language": "python",
   "name": "python3"
  },
  "language_info": {
   "codemirror_mode": {
    "name": "ipython",
    "version": 3
   },
   "file_extension": ".py",
   "mimetype": "text/x-python",
   "name": "python",
   "nbconvert_exporter": "python",
   "pygments_lexer": "ipython3",
   "version": "3.8.6"
  }
 },
 "nbformat": 4,
 "nbformat_minor": 4
}
