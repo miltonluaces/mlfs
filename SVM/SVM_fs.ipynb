{
 "cells": [
  {
   "cell_type": "markdown",
   "metadata": {},
   "source": [
    "# SVM Support Vector Machines\n",
    "### From scratch"
   ]
  },
  {
   "cell_type": "markdown",
   "metadata": {},
   "source": [
    "Here is a variation of the XOR problem, not linearly separable:"
   ]
  },
  {
   "cell_type": "markdown",
   "metadata": {},
   "source": [
    " ![](xor.bmp)"
   ]
  },
  {
   "cell_type": "markdown",
   "metadata": {},
   "source": [
    "The kernel trick: project on a higher dimension space (in this case 3d)\n",
    "\n",
    "$ \\large x' = x^2 $  \n",
    "$ \\large y' = y^2 $  \n",
    "$ \\large z'  = \\sqrt{2} x y $\n",
    "\n",
    " ![](3dprojection.bmp)\n",
    " "
   ]
  },
  {
   "cell_type": "markdown",
   "metadata": {},
   "source": [
    " Now, its possible to find a hyperplane that separates the data\n",
    " \n",
    " ![](kerneltrick.bmp)"
   ]
  },
  {
   "cell_type": "markdown",
   "metadata": {},
   "source": [
    "How do we know what space to project the data onto? In general, this is hard to know. SVM does it using Kernels.   \n",
    "However, what we do know is data is more likely to be linearly separable when projected onto higher dimensions, thanks to Cover’s theorem."
   ]
  },
  {
   "cell_type": "markdown",
   "metadata": {},
   "source": [
    "A very surprising aspect of SVMs is that in all of the mathematical machinery it uses, the exact projection, or even the number of dimensions, doesn’t show up.  \n",
    "You could write all of it in terms of the dot products between various data points (vectors where i is the point and j the dimension number):\n",
    "\n",
    "$ \\large X_i = (x_{i1}, x_{i2} ... x_{ip}) $  \n",
    "$ \\large X_j = (x_{j1}, x_{j2} ... x_{jp}) $  \n",
    "$ \\large X_i . X_j = (x_{i1} x_{j1}, x_{i2} x_{j2} ... x_{ip} x_{jp}) $  \n"
   ]
  },
  {
   "cell_type": "markdown",
   "metadata": {},
   "source": [
    "In the previous example, the Kernel function is this:\n",
    "    \n",
    "$ \\large K = {(X_i . X_j)}^2  = {(x_{i1} x_{j1} + x_{i2} x_{j2})}^2 = {(x_{i1} x_{j1}}^2 + {x_{i2} x_{j2})}^2 + 2 x_{i1} x_{i2} x_{j1} x_{j2} = (x_{i1}^2, x_{i2}^2,\n",
    "\\sqrt{2} x_i1 x_i2) . (x_{j1}^2, x_{j2}^2, \\sqrt{2} x_j1 x_j2)$"
   ]
  },
  {
   "cell_type": "markdown",
   "metadata": {},
   "source": [
    "Hinge loss function: 0 if correctly classified, 1 if its not:\n",
    "        \n",
    "$ \\large l(x,y,f(x)) = $  \n",
    "- $ \\large 0 \\quad \\quad \\quad \\quad \\;\\; : \\; y f(x) \\ge 1 $  \n",
    "- $ \\large 1 - y f(x) \\; : \\; y f(x) < 1 $"
   ]
  },
  {
   "cell_type": "markdown",
   "metadata": {},
   "source": [
    "## Imports"
   ]
  },
  {
   "cell_type": "code",
   "execution_count": 5,
   "metadata": {},
   "outputs": [],
   "source": [
    "from utilities.std_imports import *\n",
    "from matplotlib import style\n",
    "from numpy.linalg import norm\n",
    "style.use('ggplot')"
   ]
  },
  {
   "cell_type": "markdown",
   "metadata": {},
   "source": [
    "## Function definitions"
   ]
  },
  {
   "cell_type": "code",
   "execution_count": 1,
   "metadata": {},
   "outputs": [],
   "source": [
    "def GetExtremes(data):\n",
    "    values = np.asarray(list(data.values())).flatten()\n",
    "    maxVal = max(values)\n",
    "    minVal = min(values)\n",
    "    return minVal, maxVal\n",
    "\n",
    "# Training loop\n",
    "def Train(data):\n",
    "    minVal, maxVal = GetExtremes(data)\n",
    "    steps = [maxVal * 0.1, maxVal * 0.01, maxVal * 0.001,] \n",
    "\n",
    "    # b Factors (we dont need to take as small of steps with b as we do w)\n",
    "    bRangeFactor = 2 \n",
    "    bFactor = 5\n",
    "        \n",
    "    # Support vectors : yi(xi.w+b) = 1\n",
    "    options = {}\n",
    "    transforms = [[1,1], [-1,1], [-1,-1], [1,-1]]\n",
    "    best = maxVal * 10\n",
    "    for step in steps:\n",
    "        W = np.array([best,best]) # because its convex\n",
    "        optimized = False\n",
    "        while not optimized:\n",
    "            for b in np.arange(-maxVal * bRangeFactor, maxVal * bRangeFactor, step * bFactor):\n",
    "                for t in transforms:\n",
    "                    foundOption = True\n",
    "                    for yi in data:\n",
    "                        for xi in data[yi]:\n",
    "                            if not yi*(np.dot(W*t,xi) + b) >= 1:\n",
    "                                foundOption = False  #print(xi,':',yi*(np.dot(w_t,xi)+b))\n",
    "                                    \n",
    "                    if foundOption: options[norm(W*t)] = [W*t,b]\n",
    "\n",
    "            if W[0] < 0: optimized = True; print('step optimized')\n",
    "            else: W = W - step\n",
    "\n",
    "        norms = sorted([n for n in options])\n",
    "        opt = options[norms[0]]\n",
    "        W = opt[0]; b = opt[1] #||w|| : [w,b]\n",
    "        best = opt[0][0] + step*2\n",
    "            \n",
    "    for yi in data:\n",
    "        for xi in data[yi]:\n",
    "            print(xi,' : ', yi * (np.dot(W,xi)+b)) \n",
    "\n",
    "    return(W,b,minVal,maxVal)\n",
    "\n",
    "def Predict(features, w, b):\n",
    "    return np.sign(np.dot(np.array(features),w)+b) # sign( x.w+b )\n",
    "\n",
    "# Hyperplane equation : v = x.w+b\n",
    "def GetHyperplane(x,w,b,v):\n",
    "    return (-w[0]*x-b+v) / w[1]\n",
    "\n",
    "def Show(data, features, classification, w, b, minVal, maxVal):\n",
    "    colors = {1:'r',-1:'b'}\n",
    "    fig = plt.figure()\n",
    "    ax = fig.add_subplot(1,1,1)\n",
    "    for i in range(len(features)-1):\n",
    "        fe = features[i]\n",
    "        cl = classification[i]\n",
    "        ax.scatter(fe[0], fe[1], s=200, marker='*', c=colors[cl])\n",
    "     \n",
    "    [[ax.scatter(x[0],x[1],s=100,color=colors[i]) for x in data[i]] for i in data]\n",
    "\n",
    "    datarange = (minVal*0.9, maxVal*1.1)\n",
    "    hypXmin = datarange[0]\n",
    "    hypXmax = datarange[1]\n",
    "\n",
    "    # positive support vector hyperplane : (w.x+b) = 1\n",
    "    psv1 = GetHyperplane(hypXmin, w, b, 1)\n",
    "    psv2 = GetHyperplane(hypXmax, w, b, 1)\n",
    "    ax.plot([hypXmin,hypXmax],[psv1,psv2], 'k')\n",
    "\n",
    "    # negative support vector hyperplane : (w.x+b) = -1\n",
    "    nsv1 = GetHyperplane(hypXmin, w, b, -1)\n",
    "    nsv2 = GetHyperplane(hypXmax, w, b, -1)\n",
    "    ax.plot([hypXmin,hypXmax],[nsv1,nsv2], 'k')\n",
    "\n",
    "    # positive support vector hyperplane : (w.x+b) = 0\n",
    "    db1 = GetHyperplane(hypXmin, w, b, 0)\n",
    "    db2 = GetHyperplane(hypXmax, w, b, 0)\n",
    "    ax.plot([hypXmin,hypXmax],[db1,db2], 'y--')\n",
    "\n",
    "    plt.show()"
   ]
  },
  {
   "cell_type": "markdown",
   "metadata": {},
   "source": [
    "## Testing"
   ]
  },
  {
   "cell_type": "code",
   "execution_count": 4,
   "metadata": {},
   "outputs": [
    {
     "name": "stdout",
     "output_type": "stream",
     "text": [
      "step optimized\n",
      "step optimized\n",
      "step optimized\n",
      "[1 7]  :  1.271999999999435\n",
      "[2 8]  :  1.271999999999435\n",
      "[3 8]  :  1.0399999999995864\n",
      "[5 1]  :  1.0479999999990506\n",
      "[ 6 -1]  :  1.7439999999985962\n",
      "[7 3]  :  1.0479999999990506\n"
     ]
    },
    {
     "data": {
      "image/png": "[encoded data removed]",
      "text/plain": [
       "<matplotlib.figure.Figure at 0x2074b04b7b8>"
      ]
     },
     "metadata": {
      "needs_background": "light"
     },
     "output_type": "display_data"
    }
   ],
   "source": [
    "data = {-1:np.array([[1,7],[2,8],[3,8],]), 1:np.array([[5,1],[6,-1],[7,3],])}\n",
    "\n",
    "\n",
    "w, b, minVal, maxVal = Train(data=data)\n",
    "\n",
    "test = [[0,10],[1,3],[3,4],[3,5],[5,5],[5,6],[6,-5],[5,8]]\n",
    "\n",
    "Cl = []\n",
    "for t in test:\n",
    "    cl = Predict(t, w, b)\n",
    "    Cl.append(cl)\n",
    "\n",
    "Show(data, test, Cl, w, b, minVal, maxVal)\n"
   ]
  },
  {
   "cell_type": "markdown",
   "metadata": {},
   "source": [
    "## Credits & Links"
   ]
  },
  {
   "cell_type": "markdown",
   "metadata": {},
   "source": [
    "https://www.kdnuggets.com/2017/08/support-vector-machines-learning-svms-examples.html/2  \n",
    "https://towardsdatascience.com/support-vector-machine-introduction-to-machine-learning-algorithms-934a444fca47"
   ]
  },
  {
   "cell_type": "code",
   "execution_count": null,
   "metadata": {},
   "outputs": [],
   "source": []
  }
 ],
 "metadata": {
  "kernelspec": {
   "display_name": "Python 3",
   "language": "python",
   "name": "python3"
  },
  "language_info": {
   "codemirror_mode": {
    "name": "ipython",
    "version": 3
   },
   "file_extension": ".py",
   "mimetype": "text/x-python",
   "name": "python",
   "nbconvert_exporter": "python",
   "pygments_lexer": "ipython3",
   "version": "3.8.6"
  }
 },
 "nbformat": 4,
 "nbformat_minor": 4
}
