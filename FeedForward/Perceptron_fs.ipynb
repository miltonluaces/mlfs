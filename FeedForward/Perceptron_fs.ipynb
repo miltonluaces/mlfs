{
 "cells": [
  {
   "cell_type": "markdown",
   "metadata": {},
   "source": [
    "# Perceptron\n",
    "### From scratch"
   ]
  },
  {
   "cell_type": "markdown",
   "metadata": {},
   "source": [
    " ![](perceptron.jpg)"
   ]
  },
  {
   "cell_type": "markdown",
   "metadata": {},
   "source": [
    "## Imports"
   ]
  },
  {
   "cell_type": "code",
   "execution_count": 3,
   "metadata": {},
   "outputs": [],
   "source": [
    "from utilities.std_imports import *\n",
    "from bokeh.plotting import figure, output_file, show"
   ]
  },
  {
   "cell_type": "markdown",
   "metadata": {},
   "source": [
    "## Methods"
   ]
  },
  {
   "cell_type": "markdown",
   "metadata": {},
   "source": [
    "$\\large f_s(b + \\sum_{i=1}^M W.X) $"
   ]
  },
  {
   "cell_type": "code",
   "execution_count": 7,
   "metadata": {},
   "outputs": [],
   "source": [
    "def perceptron(x, w):\n",
    "    return (x @ w >= 0).astype(int)\n",
    "\n",
    "def train(x, y, w):\n",
    "    for i in range(len(x)):\n",
    "        # evaluate perceptron\n",
    "        yhat = perceptron(x[i, :], w)\n",
    "        \n",
    "        # train on wrong predictions\n",
    "        if yhat != y[i]:\n",
    "            if y[i] == 1: w += x[i, :]\n",
    "            else: w -= x[i, :]\n",
    "    \n",
    "    # evaluate\n",
    "    return perceptron(x, w)"
   ]
  },
  {
   "cell_type": "markdown",
   "metadata": {},
   "source": [
    "## Test"
   ]
  },
  {
   "cell_type": "markdown",
   "metadata": {},
   "source": [
    "#### Dataset 2d points"
   ]
  },
  {
   "cell_type": "code",
   "execution_count": 8,
   "metadata": {},
   "outputs": [],
   "source": [
    "# dataset with bias\n",
    "X = np.array([[0, 1], [1, 0], [1, 1], [-1, 1], [1, -1]])\n",
    "Y = np.array([1, 1, 1, 0, 0])\n",
    "\n",
    "p = figure()\n",
    "color = list(map({0: 'red', 1: 'green'}.__getitem__, Y))\n",
    "p.circle(x=X[:, 0], y=X[:, 1], color=color, size=10)\n",
    "show(p)"
   ]
  },
  {
   "cell_type": "markdown",
   "metadata": {},
   "source": [
    "#### Train"
   ]
  },
  {
   "cell_type": "code",
   "execution_count": 9,
   "metadata": {},
   "outputs": [
    {
     "name": "stdout",
     "output_type": "stream",
     "text": [
      "w= [ 0.  0. -2.] acc= 0.4\n",
      "w= [ 1.  1. -2.] acc= 0.6\n",
      "w= [ 2.  1. -2.] acc= 0.8\n",
      "w= [ 2.  2. -1.] acc= 1.0\n",
      "w= [ 2.  2. -1.] acc= 1.0\n"
     ]
    }
   ],
   "source": [
    "X = np.array([[0, 1, 1], [1, 0, 1], [1, 1, 1], [-1, 1, 1], [1, -1, 1]]) # bias added\n",
    "Y = np.array([1, 1, 1, 0, 0])\n",
    "W = np.zeros(3)\n",
    "\n",
    "for _ in range(5):\n",
    "    yh = train(X, Y, W)\n",
    "    print('w=', W, 'acc=', np.mean(yh == Y))"
   ]
  },
  {
   "cell_type": "markdown",
   "metadata": {},
   "source": [
    "#### Plot results"
   ]
  },
  {
   "cell_type": "code",
   "execution_count": 10,
   "metadata": {},
   "outputs": [],
   "source": [
    "x0, y0 = -1.5, (-1.5 * -W[0] - W[2]) / W[1]\n",
    "x1, y1 = 1.5, (1.5 * -W[0] - W[2]) / W[1]\n",
    "p = figure()\n",
    "p.circle(x=X[:, 0], y=X[:, 1], color=color, size=10)\n",
    "p.line(x=[x0, x1], y=[y0, y1])\n",
    "show(p)"
   ]
  },
  {
   "cell_type": "markdown",
   "metadata": {},
   "source": [
    "## Credits & Links"
   ]
  },
  {
   "cell_type": "markdown",
   "metadata": {},
   "source": [
    "https://medium.com/100-days-of-algorithms/day-17-perceptron-3434a93a04fe"
   ]
  }
 ],
 "metadata": {
  "kernelspec": {
   "display_name": "Python 3",
   "language": "python",
   "name": "python3"
  },
  "language_info": {
   "codemirror_mode": {
    "name": "ipython",
    "version": 3
   },
   "file_extension": ".py",
   "mimetype": "text/x-python",
   "name": "python",
   "nbconvert_exporter": "python",
   "pygments_lexer": "ipython3",
   "version": "3.8.1"
  }
 },
 "nbformat": 4,
 "nbformat_minor": 4
}
