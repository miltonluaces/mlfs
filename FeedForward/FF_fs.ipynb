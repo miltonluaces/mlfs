{
 "cells": [
  {
   "cell_type": "markdown",
   "metadata": {},
   "source": [
    "# Feed-forward Neural Networks\n",
    "### From scratch"
   ]
  },
  {
   "cell_type": "markdown",
   "metadata": {},
   "source": [
    " ![](ff.png)\n",
    "  ![](net.png)"
   ]
  },
  {
   "cell_type": "markdown",
   "metadata": {},
   "source": [
    "## Imports"
   ]
  },
  {
   "cell_type": "code",
   "execution_count": 1,
   "metadata": {},
   "outputs": [],
   "source": [
    "import numpy as np\n",
    "from sklearn import datasets, linear_model\n",
    "import matplotlib.pyplot as plt"
   ]
  },
  {
   "cell_type": "markdown",
   "metadata": {},
   "source": [
    "## 1. Forward step"
   ]
  },
  {
   "cell_type": "markdown",
   "metadata": {},
   "source": [
    "$ \\large n_{1i} = w_{1i} x_i + b_i $  \n",
    "\n",
    "$ \\large a_{1i} = \\tanh(n_{1i}) $   \n",
    "\n",
    "$ \\large n_{2i} = w_{2i} a_{1i} + b_i $  \n",
    "\n",
    "$ \\large y_i = \\exp(n_{2i}) $   \n",
    "\n",
    "$ \\large y_{ip} = \\frac{y_i}{\\sum_{j=1}^n{y_j}} $   \n",
    "\n",
    "\n"
   ]
  },
  {
   "cell_type": "code",
   "execution_count": 2,
   "metadata": {},
   "outputs": [],
   "source": [
    "def ForwardStep(X, model):\n",
    "    W1, b1, W2, b2 = model['W1'], model['b1'], model['W2'], model['b2']\n",
    "    n1 = X.dot(W1) + b1\n",
    "    a1 = np.tanh(n1)\n",
    "    n2 = a1.dot(W2) + b2\n",
    "    y = np.exp(n2)\n",
    "    py = y / np.sum(y, axis=1, keepdims=True)\n",
    "    return py, a1"
   ]
  },
  {
   "cell_type": "markdown",
   "metadata": {},
   "source": [
    "## 2. Backward step"
   ]
  },
  {
   "cell_type": "markdown",
   "metadata": {},
   "source": [
    "$ \\large w^{(i+1)} = w^{(i)} - \\nabla w^{(i)} $ \n",
    "  \n",
    "$ \\large \\nabla w = \\mu \\frac{\\partial L}{\\partial w} =  \\mu \\frac{\\partial L}{\\partial y} \\frac{\\partial y}{\\partial w}$ \n",
    "  \n",
    " $ \\large \\frac{\\partial y}{\\partial w}  = x \\qquad \\large \\frac{\\partial L}{\\partial y} = \\frac{\\partial (y - \\hat{y})^2}{\\partial y} = -2 (y - \\hat{y}) $"
   ]
  },
  {
   "cell_type": "markdown",
   "metadata": {},
   "source": [
    "### Output layer:  \n",
    "\n",
    "$ \\large d_2 = 1 - y_{ip}$   \n",
    "\n",
    "$ \\large d_{2w} = a_2^t d_2 $   \n",
    "\n",
    "$ \\large d_{2b} = \\sum_{j=1}^n d_{2j} $   \n",
    "\n",
    "$ \\large w_{2}^{(i+1)} = w_{2}^{(i)} - m . d_{2w} + \\lambda w_{2i} $  \n",
    "\n",
    "$ \\large b_{2}^{(i+1)} = b_{2}^{(i)} - m . d_{2b} $  \n",
    "\n",
    "  \n",
    "  \n",
    "### Hidden layer:  \n",
    "\n",
    "$ \\large d_1= w_2 d_2 . (1 - a_1^2)$   \n",
    "\n",
    "$ \\large d_{1w} = x_i d_1 $   \n",
    "\n",
    "$ \\large d_{1b} = \\sum_{j=1}^n d_{1j} $   \n",
    "\n",
    "$ \\large w_{1}^{(i+1)} = w_{1}^{(i)} - m . d_{1w} + \\lambda w_{1i} $  \n",
    "\n",
    "$ \\large b_{1}^{(i+1)} = b_{1}^{(i)} - m . d_{1b} $  \n",
    "\n",
    "  "
   ]
  },
  {
   "cell_type": "markdown",
   "metadata": {},
   "source": [
    "  ![](learningRate.png)"
   ]
  },
  {
   "cell_type": "code",
   "execution_count": 3,
   "metadata": {},
   "outputs": [],
   "source": [
    "def BackwardStep(X, y, nExamples, py, a1, model, m, Lambda):\n",
    "    W1, b1, W2, b2 = model['W1'], model['b1'], model['W2'], model['b2']\n",
    "    \n",
    "    # Output to hidden layer\n",
    "    d2 = py\n",
    "    d2[range(nExamples), y] -= 1\n",
    "    dW2 = (a1.T).dot(d2)\n",
    "    db2 = np.sum(d2, axis=0, keepdims=True)\n",
    " \n",
    "    # Hidden layer\n",
    "    d1 = d2.dot(W2.T) * (1 - np.power(a1, 2))\n",
    "    dW1 = np.dot(X.T, d1)\n",
    "    db1 = np.sum(d1, axis=0)\n",
    "\n",
    "    # Add regularization terms (only Ws)\n",
    "    dW1 += Lambda * W1\n",
    "    dW2 += Lambda * W2\n",
    "  \n",
    "    # Gradient descent parameter update\n",
    "    W1 -= m * dW1\n",
    "    b1 -= m * db1\n",
    "    W2 -= m * dW2\n",
    "    b2 -= m * db2\n",
    "    model = {'W1': W1, 'b1': b1, 'W2': W2, 'b2': b2}\n",
    "    return(model)"
   ]
  },
  {
   "cell_type": "markdown",
   "metadata": {},
   "source": [
    "## 3. Loss function\n",
    "\n",
    "Cross entropy loss function: \n",
    "  \n",
    "$ \\large l = -\\log[ \\; P(y|x) \\; ]$  \n",
    "\n",
    "Optionally with a regularization term:  \n",
    "  \n",
    "\n",
    "$ \\large l = \\sum_{j+1}^n{[\\; -\\log(y_{jp}) \\; ]} \\; + \\; \\lambda \\frac{1}{2} \\; (\\sum_{j=1}^n {w_{2j}}^2 + \\sum_{j=1}^n {w_{1j}}^2)$"
   ]
  },
  {
   "cell_type": "code",
   "execution_count": 12,
   "metadata": {},
   "outputs": [],
   "source": [
    "def CalcLoss(model, X, y, Lambda):\n",
    "    nExamples = len(X) \n",
    "    W1, b1, W2, b2 = model['W1'], model['b1'], model['W2'], model['b2']\n",
    "    \n",
    "    py, a1 = ForwardStep(X, model)\n",
    "    \n",
    "    # Calculating the loss\n",
    "    logPy = -np.log(py[range(nExamples), y])\n",
    "    loss = np.sum(logPy)\n",
    "    \n",
    "    # Add regulatization to loss\n",
    "    loss += Lambda / 2 * (np.sum(np.square(W1)) + np.sum(np.square(W2)))\n",
    "    return 1. / (nExamples * loss)"
   ]
  },
  {
   "cell_type": "markdown",
   "metadata": {},
   "source": [
    "![](actloss.png)"
   ]
  },
  {
   "cell_type": "markdown",
   "metadata": {},
   "source": [
    "## 4. Build the model"
   ]
  },
  {
   "cell_type": "code",
   "execution_count": 13,
   "metadata": {},
   "outputs": [],
   "source": [
    "def BuildModel(X, y, nInp, nHid, nOut, epochs, m, Lambda, printLoss=False):\n",
    "    \n",
    "    # Initialize \n",
    "    nExamples = len(X)\n",
    "    np.random.seed(0)\n",
    "    W1 = np.random.randn(nInp, nHid) / np.sqrt(nInp)\n",
    "    b1 = np.zeros((1, nHid))\n",
    "    W2 = np.random.randn(nHid, nOut) / np.sqrt(nHid)\n",
    "    b2 = np.zeros((1, nOut))\n",
    "    model = {'W1': W1, 'b1': b1, 'W2': W2, 'b2': b2}\n",
    "     \n",
    "    # Train\n",
    "    for i in range(0, epochs):\n",
    "\n",
    "        py, a1 = ForwardStep(X, model)\n",
    "        model = BackwardStep(X, y, nExamples, py, a1, model, m, Lambda)\n",
    "        \n",
    "        if printLoss and i % 1000 == 0: print(\"Loss after iteration %i: %f\" % (i, CalcLoss(model, X, y, Lambda)))\n",
    "\n",
    "    return model"
   ]
  },
  {
   "cell_type": "markdown",
   "metadata": {},
   "source": [
    "## 5. Predict"
   ]
  },
  {
   "cell_type": "code",
   "execution_count": 14,
   "metadata": {},
   "outputs": [],
   "source": [
    "def Predict(model, X):\n",
    "    py, a1 = ForwardStep(X, model)\n",
    "    return np.argmax(py, axis=1)"
   ]
  },
  {
   "cell_type": "markdown",
   "metadata": {},
   "source": [
    "## Test\n"
   ]
  },
  {
   "cell_type": "code",
   "execution_count": 15,
   "metadata": {},
   "outputs": [
    {
     "data": {
      "image/png": "[encoded data removed]",
      "text/plain": [
       "<Figure size 432x288 with 1 Axes>"
      ]
     },
     "metadata": {
      "needs_background": "light"
     },
     "output_type": "display_data"
    },
    {
     "name": "stdout",
     "output_type": "stream",
     "text": [
      "Loss after iteration 0: 0.000057\n",
      "Loss after iteration 1000: 0.000392\n",
      "Loss after iteration 2000: 0.000401\n",
      "Loss after iteration 3000: 0.000406\n",
      "Loss after iteration 4000: 0.000409\n",
      "Loss after iteration 5000: 0.000411\n",
      "Loss after iteration 6000: 0.000412\n",
      "Loss after iteration 7000: 0.000413\n",
      "Loss after iteration 8000: 0.000414\n",
      "Loss after iteration 9000: 0.000411\n",
      "Loss after iteration 10000: 0.000411\n",
      "Loss after iteration 11000: 0.000411\n",
      "Loss after iteration 12000: 0.000411\n",
      "Loss after iteration 13000: 0.000411\n",
      "Loss after iteration 14000: 0.000411\n",
      "Loss after iteration 15000: 0.000411\n",
      "Loss after iteration 16000: 0.000411\n",
      "Loss after iteration 17000: 0.000411\n",
      "Loss after iteration 18000: 0.000411\n",
      "Loss after iteration 19000: 0.000411\n"
     ]
    },
    {
     "data": {
      "image/png": "[encoded data removed]",
      "text/plain": [
       "<Figure size 432x288 with 1 Axes>"
      ]
     },
     "metadata": {
      "needs_background": "light"
     },
     "output_type": "display_data"
    }
   ],
   "source": [
    "def plot_decision_boundary(predFunc, X, y):\n",
    "    # Set min and max values and give it some padding\n",
    "    x_min, x_max = X[:, 0].min() - .5, X[:, 0].max() + .5\n",
    "    y_min, y_max = X[:, 1].min() - .5, X[:, 1].max() + .5\n",
    "    h = 0.01\n",
    "    # Generate a grid of points with distance h between them\n",
    "    xx, yy = np.meshgrid(np.arange(x_min, x_max, h), np.arange(y_min, y_max, h))\n",
    "    # Predict the function value for the whole gid\n",
    "    Z = predFunc(np.c_[xx.ravel(), yy.ravel()])\n",
    "    Z = Z.reshape(xx.shape)\n",
    "    # Plot the contour and training examples\n",
    "    plt.contourf(xx, yy, Z, cmap=plt.cm.Spectral)\n",
    "    plt.scatter(X[:, 0], X[:, 1], c=y, cmap=plt.cm.Spectral)\n",
    "\n",
    "# Generate data\n",
    "X, y = datasets.make_moons(200, noise=0.20)\n",
    "\n",
    "# Logistic Regression\n",
    "lr = linear_model.LogisticRegressionCV()\n",
    "lr.fit(X, y)\n",
    "plot_decision_boundary(lambda x: lr.predict(x), X, y)\n",
    "plt.title(\"Logistic Regression\")\n",
    "plt.show()\n",
    "\n",
    "# Neural Networks\n",
    "nn = BuildModel(X=X, y=y, nInp=2, nHid=3, nOut=2, epochs=20000, m=0.01, Lambda=0.01, printLoss=True)\n",
    "plot_decision_boundary(lambda x:Predict(nn,x), X, y)\n",
    "plt.title(\"Neural Network\")\n",
    "plt.show()"
   ]
  },
  {
   "cell_type": "markdown",
   "metadata": {},
   "source": [
    "## Credits & Links"
   ]
  },
  {
   "cell_type": "markdown",
   "metadata": {},
   "source": [
    "Practical Data Science. Andreas Vermeulen\n",
    "https://towardsdatascience.com/deep-learning-which-loss-and-activation-functions-should-i-use-ac02f1c56aa8  \n",
    "https://medium.com/yottabytes/everything-you-need-to-know-about-gradient-descent-applied-to-neural-networks-d70f85e0cc14  \n",
    "https://peterroelants.github.io/posts/neural-network-implementation-part01/  \n",
    "https://blogs.cuit.columbia.edu/zp2130/derivative_of_tanh_function/  "
   ]
  },
  {
   "cell_type": "code",
   "execution_count": null,
   "metadata": {},
   "outputs": [],
   "source": []
  }
 ],
 "metadata": {
  "kernelspec": {
   "display_name": "Python 3",
   "language": "python",
   "name": "python3"
  },
  "language_info": {
   "codemirror_mode": {
    "name": "ipython",
    "version": 3
   },
   "file_extension": ".py",
   "mimetype": "text/x-python",
   "name": "python",
   "nbconvert_exporter": "python",
   "pygments_lexer": "ipython3",
   "version": "3.8.1"
  }
 },
 "nbformat": 4,
 "nbformat_minor": 4
}
