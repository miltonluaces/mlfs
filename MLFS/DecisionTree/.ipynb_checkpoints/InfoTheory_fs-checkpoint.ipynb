{
 "cells": [
  {
   "cell_type": "markdown",
   "metadata": {},
   "source": [
    "# Information Theory\n",
    "### From scratch"
   ]
  },
  {
   "cell_type": "markdown",
   "metadata": {},
   "source": [
    "## Imports"
   ]
  },
  {
   "cell_type": "code",
   "execution_count": 2,
   "metadata": {},
   "outputs": [],
   "source": [
    "from math import log2\n",
    "import math\n",
    "import numpy as np\n",
    "from scipy.stats import entropy\n",
    "from matplotlib import pyplot as plt"
   ]
  },
  {
   "cell_type": "markdown",
   "metadata": {},
   "source": [
    "## 1. Information content"
   ]
  },
  {
   "cell_type": "markdown",
   "metadata": {},
   "source": [
    "$ \\large I(E) = -\\log[P(E)] $\n",
    "\n",
    "- A fair coin : &emsp; $ P(x) = 1/2 \\quad\\; I(x) = -\\log_2 P(x) = -\\log_2 1/2 = 1 $\n",
    "- 2 fair coins: &emsp;  $ P(x) = 1/4 \\quad\\; I(x) = -\\log_2 P(x) = -\\log_2 1/4 = 2 $ \n",
    "- A fair dice : &emsp; $ P(x) = 1/6 \\quad\\; I(x) = -\\log_2 P(x) = -\\log_2 1/6 \\approx 2.58 $\n",
    "- One hot dice : &emsp; $ P(x) = 1 \\quad\\;  I(x) = -\\log_2 P(x) = -\\log_2 1 = 0 \\;\\;\\; or \\;\\; -\\log_2 0 = \\infty $\n"
   ]
  },
  {
   "cell_type": "code",
   "execution_count": 40,
   "metadata": {},
   "outputs": [
    {
     "name": "stdout",
     "output_type": "stream",
     "text": [
      "Probability =  0.50 information =  1.00 bits\n",
      "Probability =  0.25 information =  2.00 bits\n",
      "Probability =  0.17 information =  2.58 bits\n",
      "Probability =  1.00 information =  -0.00 bits\n"
     ]
    }
   ],
   "source": [
    "P = [1/2, 1/4, 1/6, 1]\n",
    "I = []\n",
    "for i in range(len(P)): \n",
    "    I.append(-log2(P[i])) \n",
    "    print('Probability = ', '{0:.2f}'.format(P[i])  , 'information = ', '{0:.2f}'.format(I[i]), 'bits')"
   ]
  },
  {
   "cell_type": "markdown",
   "metadata": {},
   "source": [
    "## 2. Shannon entropy"
   ]
  },
  {
   "cell_type": "markdown",
   "metadata": {},
   "source": [
    "$ \\large H(x) = E[(I(x)] = \\sum_1^n{-P(X_i) \\; log P(X_i) } $"
   ]
  },
  {
   "cell_type": "code",
   "execution_count": 74,
   "metadata": {},
   "outputs": [
    {
     "name": "stdout",
     "output_type": "stream",
     "text": [
      "2.584962500721156\n"
     ]
    }
   ],
   "source": [
    "n=6; p=1/6\n",
    "h = -sum([p * log2(p) for _ in range(n)])\n",
    "print(h)"
   ]
  },
  {
   "cell_type": "markdown",
   "metadata": {},
   "source": [
    "## 3. Cross-entropy"
   ]
  },
  {
   "cell_type": "markdown",
   "metadata": {},
   "source": [
    "H(P, Q) is the cross-entropy of Q from P, that is the average number of total bits to represent an event from Q instead of P.\n",
    "  \n",
    "$\\large -\\sum_{i=1}^n p_i . \\log_2 q_i $  \n",
    "  \n",
    "For binary classification:\n",
    "\n",
    "$\\large -\\sum_{i=1}^n p_i . \\log_2 (1- p_i) $"
   ]
  },
  {
   "cell_type": "code",
   "execution_count": 5,
   "metadata": {},
   "outputs": [],
   "source": [
    "def cross_entropy(p, q):\n",
    "    return -sum( [p[i] * log2(q[i]) for i in range(len(p))])"
   ]
  },
  {
   "cell_type": "markdown",
   "metadata": {},
   "source": [
    "#### Test:"
   ]
  },
  {
   "cell_type": "code",
   "execution_count": 6,
   "metadata": {},
   "outputs": [
    {
     "name": "stdout",
     "output_type": "stream",
     "text": [
      "P=1.000 Q=1.000\n"
     ]
    },
    {
     "data": {
      "image/png": "[encoded data removed]",
      "text/plain": [
       "<matplotlib.figure.Figure at 0x1186ec88518>"
      ]
     },
     "metadata": {
      "needs_background": "light"
     },
     "output_type": "display_data"
    },
    {
     "name": "stdout",
     "output_type": "stream",
     "text": [
      "H(P, Q): 3.288 bits\n",
      "H(Q, P): 2.906 bits\n"
     ]
    }
   ],
   "source": [
    "# define distributions\n",
    "events = ['red', 'green', 'blue']\n",
    "p = [0.10, 0.40, 0.50]\n",
    "q = [0.80, 0.15, 0.05]\n",
    "print('P=%.3f Q=%.3f' % (sum(p), sum(q)))\n",
    "\n",
    "# plot both distributions\n",
    "plt.subplot(2,1,1)\n",
    "plt.bar(events, p)\n",
    "plt.subplot(2,1,2)\n",
    "plt.bar(events, q)\n",
    "plt.show()\n",
    "\n",
    "# calculate cross entropy H(P, Q)\n",
    "ce_pq = cross_entropy(p, q)\n",
    "print('H(P, Q): %.3f bits' % ce_pq)\n",
    "# calculate cross entropy H(Q, P)\n",
    "ce_qp = cross_entropy(q, p)\n",
    "print('H(Q, P): %.3f bits' % ce_qp)"
   ]
  },
  {
   "cell_type": "markdown",
   "metadata": {},
   "source": [
    "#### Using libraries: scipy"
   ]
  },
  {
   "cell_type": "code",
   "execution_count": 80,
   "metadata": {},
   "outputs": [
    {
     "name": "stdout",
     "output_type": "stream",
     "text": [
      "2.584962500721156\n"
     ]
    }
   ],
   "source": [
    "p = [1/6, 1/6, 1/6, 1/6, 1/6, 1/6]\n",
    "h = entropy(p, base=2)\n",
    "print(h)"
   ]
  },
  {
   "cell_type": "markdown",
   "metadata": {},
   "source": [
    "## 4. Mutual information"
   ]
  },
  {
   "cell_type": "markdown",
   "metadata": {},
   "source": [
    "$ \\large I(X,Y) = \\sum_{y \\in Y} \\sum_{x \\in X} P(x,y) \\; log \\frac{P(x,y)}{P(x) P(y)} = I(X, Y) = \\frac{H(X) + H(Y) - H(X,Y)}{H(X) H(Y) } $"
   ]
  },
  {
   "cell_type": "code",
   "execution_count": null,
   "metadata": {},
   "outputs": [],
   "source": [
    "def mutual_information(x,y, mode=\"auto\", normalized=False):\n",
    "    x = np.asarray(x)\n",
    "    y = np.asarray(y)\n",
    "    H_x = entropy(x)\n",
    "    H_y = entropy(y)\n",
    "    H_xy = entropy(np.concatenate([x,y]))\n",
    "    I_xy = H_x + H_y - H_xy\n",
    "    return I_xy / (H_x*H_y)   "
   ]
  }
 ],
 "metadata": {
  "kernelspec": {
   "display_name": "Python 3",
   "language": "python",
   "name": "python3"
  },
  "language_info": {
   "codemirror_mode": {
    "name": "ipython",
    "version": 3
   },
   "file_extension": ".py",
   "mimetype": "text/x-python",
   "name": "python",
   "nbconvert_exporter": "python",
   "pygments_lexer": "ipython3",
   "version": "3.6.6"
  }
 },
 "nbformat": 4,
 "nbformat_minor": 2
}
