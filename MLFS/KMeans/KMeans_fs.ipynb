{
 "cells": [
  {
   "cell_type": "markdown",
   "metadata": {},
   "source": [
    "# K-Means\n",
    "### From scratch"
   ]
  },
  {
   "cell_type": "markdown",
   "metadata": {},
   "source": [
    "K-Means is really just the EM (Expectation Maximization) algorithm applied to a particular naive bayes model.\n",
    "- **E-Step**: Coming up with values to hidden variables, based on parameters. If you work out the math of chosing the best values for the class variable based on the features of a given piece of data in your data set, it comes out to \"for each data-point, chose the centroid that it is closest to, by euclidean distance, and assign that centroid's label.\" \n",
    "\n",
    "- **M-Step**: Coming up with parameters, based on full assignments. If you work out the math of chosing the best parameter values based on the features of a given piece of data in your data set, it comes out to \"take the mean of all the data-points that were labeled as c.\""
   ]
  },
  {
   "cell_type": "markdown",
   "metadata": {},
   "source": [
    "### 1. Initialize randomly $\\mu_i$ centroids. \n",
    "\n",
    "### 2. $  c^{(i+1)} = arg min_j || x^{(i)} - \\mu_j^{(i)} {||}^2 $\n",
    "\n",
    "### 3. $ \\mu_j^{(i+1)} = \\frac{\\sum_{i=1}^{m} 1 \\{c^{(i)} = j\\} x^{i}}{\\sum_{i=1}^{m} 1 \\{c^{(i)} = j\\}} $"
   ]
  },
  {
   "cell_type": "markdown",
   "metadata": {},
   "source": [
    "## Imports"
   ]
  },
  {
   "cell_type": "code",
   "execution_count": 1,
   "metadata": {},
   "outputs": [],
   "source": [
    "import numpy as np\n",
    "import matplotlib.pyplot as plt\n",
    "from matplotlib import style\n",
    "style.use('ggplot')"
   ]
  },
  {
   "cell_type": "code",
   "execution_count": 21,
   "metadata": {},
   "outputs": [],
   "source": [
    "def fit(data, k, tol, epochs):\n",
    "\n",
    "    centroids = {}\n",
    "\n",
    "    for i in range(k):\n",
    "        centroids[i] = data[i]\n",
    "\n",
    "    for i in range(epochs):\n",
    "        classes = {}\n",
    "\n",
    "        for i in range(k):\n",
    "            classes[i] = []\n",
    "\n",
    "        for dim in data:\n",
    "            distances = [np.linalg.norm(dim - centroids[c]) for c in centroids]\n",
    "            clasS = distances.index(min(distances))\n",
    "            classes[clasS].append(dim)\n",
    "\n",
    "        prev_centroids = dict(centroids)\n",
    "\n",
    "        for c in classes:\n",
    "            centroids[c] = np.average(classes[c],axis=0)\n",
    "\n",
    "        optimized = True\n",
    "\n",
    "        for c in centroids:\n",
    "            original_centroid = prev_centroids[c]\n",
    "            current_centroid = centroids[c]\n",
    "            if np.sum((current_centroid-original_centroid) / original_centroid * 100.0) > tol:\n",
    "                print(np.sum((current_centroid-original_centroid) / original_centroid * 100.0))\n",
    "                optimized = False\n",
    "\n",
    "        if optimized:\n",
    "            break\n",
    "    return centroids, classes\n",
    "\n",
    "def predict(data, centroids):\n",
    "    distances = [np.linalg.norm(data - centroids[centroid]) for centroid in centroids]\n",
    "    clasS = distances.index(min(distances))\n",
    "    return clasS"
   ]
  },
  {
   "cell_type": "markdown",
   "metadata": {},
   "source": [
    "## Testing"
   ]
  },
  {
   "cell_type": "markdown",
   "metadata": {},
   "source": [
    "#### Load data"
   ]
  },
  {
   "cell_type": "code",
   "execution_count": 22,
   "metadata": {},
   "outputs": [
    {
     "data": {
      "image/png": "[encoded data removed]",
      "text/plain": [
       "<matplotlib.figure.Figure at 0x294fc225be0>"
      ]
     },
     "metadata": {
      "needs_background": "light"
     },
     "output_type": "display_data"
    }
   ],
   "source": [
    "X = np.array([[1, 2], [1.5, 1.8], [5, 8 ], [8, 8], [1, 0.6], [9,11]])\n",
    "\n",
    "plt.scatter(X[:,0], X[:,1], s=150)\n",
    "plt.show()"
   ]
  },
  {
   "cell_type": "code",
   "execution_count": 23,
   "metadata": {},
   "outputs": [
    {
     "name": "stdout",
     "output_type": "stream",
     "text": [
      "453.3333333333334\n",
      "102.72108843537411\n"
     ]
    },
    {
     "data": {
      "image/png": "[encoded data removed]",
      "text/plain": [
       "<matplotlib.figure.Figure at 0x294fc3146a0>"
      ]
     },
     "metadata": {
      "needs_background": "light"
     },
     "output_type": "display_data"
    }
   ],
   "source": [
    "centroids, classes = fit(data=X, k=2, tol=0.001, epochs=10)\n",
    "\n",
    "for c in centroids:\n",
    "    plt.scatter(centroids[c][0], centroids[c][1], marker=\"o\", color=\"k\", s=150, linewidths=5)\n",
    "\n",
    "colors = 10*[\"g\",\"r\",\"c\",\"b\",\"k\"]\n",
    "for c in classes:\n",
    "    color = colors[c]\n",
    "    for dim in classes[c]:\n",
    "        plt.scatter(dim[0], dim[1], marker=\"x\", color=color, s=150, linewidths=5)\n",
    "        \n",
    "plt.show()"
   ]
  },
  {
   "cell_type": "markdown",
   "metadata": {},
   "source": [
    "## Credits & Links"
   ]
  },
  {
   "cell_type": "markdown",
   "metadata": {},
   "source": [
    "https://stanford.edu/~cpiech/cs221/handouts/kmeans.html  \n",
    "https://pythonprogramming.net/k-means-from-scratch-machine-learning-tutorial/"
   ]
  }
 ],
 "metadata": {
  "kernelspec": {
   "display_name": "Python 3",
   "language": "python",
   "name": "python3"
  },
  "language_info": {
   "codemirror_mode": {
    "name": "ipython",
    "version": 3
   },
   "file_extension": ".py",
   "mimetype": "text/x-python",
   "name": "python",
   "nbconvert_exporter": "python",
   "pygments_lexer": "ipython3",
   "version": "3.8.1"
  }
 },
 "nbformat": 4,
 "nbformat_minor": 4
}
