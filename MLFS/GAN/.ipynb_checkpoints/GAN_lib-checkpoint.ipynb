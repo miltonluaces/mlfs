{
 "cells": [
  {
   "cell_type": "markdown",
   "metadata": {},
   "source": [
    "# GAN Generative Adversarial Networks\n",
    "### Using libraries : $\\textit{x}$"
   ]
  },
  {
   "cell_type": "markdown",
   "metadata": {},
   "source": [
    "## Imports"
   ]
  },
  {
   "cell_type": "code",
   "execution_count": 6,
   "metadata": {},
   "outputs": [
    {
     "ename": "ModuleNotFoundError",
     "evalue": "No module named 'pygan'",
     "output_type": "error",
     "traceback": [
      "\u001b[1;31m---------------------------------------------------------------------------\u001b[0m",
      "\u001b[1;31mModuleNotFoundError\u001b[0m                       Traceback (most recent call last)",
      "\u001b[1;32m<ipython-input-6-1c979c03b6db>\u001b[0m in \u001b[0;36m<module>\u001b[1;34m\u001b[0m\n\u001b[0;32m      1\u001b[0m \u001b[1;31m# is-a `TrueSampler`.\u001b[0m\u001b[1;33m\u001b[0m\u001b[1;33m\u001b[0m\u001b[0m\n\u001b[1;32m----> 2\u001b[1;33m \u001b[1;32mfrom\u001b[0m \u001b[0mpygan\u001b[0m\u001b[1;33m.\u001b[0m\u001b[0mtruesampler\u001b[0m\u001b[1;33m.\u001b[0m\u001b[0msine_wave_true_sampler\u001b[0m \u001b[1;32mimport\u001b[0m \u001b[0mSineWaveTrueSampler\u001b[0m\u001b[1;33m\u001b[0m\u001b[0m\n\u001b[0m\u001b[0;32m      3\u001b[0m \u001b[1;31m# is-a `NoiseSampler`.\u001b[0m\u001b[1;33m\u001b[0m\u001b[1;33m\u001b[0m\u001b[0m\n\u001b[0;32m      4\u001b[0m \u001b[1;32mfrom\u001b[0m \u001b[0mpygan\u001b[0m\u001b[1;33m.\u001b[0m\u001b[0mnoisesampler\u001b[0m\u001b[1;33m.\u001b[0m\u001b[0muniform_noise_sampler\u001b[0m \u001b[1;32mimport\u001b[0m \u001b[0mUniformNoiseSampler\u001b[0m\u001b[1;33m\u001b[0m\u001b[0m\n\u001b[0;32m      5\u001b[0m \u001b[1;31m# is-a `GenerativeModel`.\u001b[0m\u001b[1;33m\u001b[0m\u001b[1;33m\u001b[0m\u001b[0m\n",
      "\u001b[1;31mModuleNotFoundError\u001b[0m: No module named 'pygan'"
     ]
    }
   ],
   "source": [
    "# is-a `TrueSampler`.\n",
    "from pygan.truesampler.sine_wave_true_sampler import SineWaveTrueSampler\n",
    "# is-a `NoiseSampler`.\n",
    "from pygan.noisesampler.uniform_noise_sampler import UniformNoiseSampler\n",
    "# is-a `GenerativeModel`.\n",
    "from pygan.generativemodel.lstm_model import LSTMModel\n",
    "# is-a `DiscriminativeModel`.\n",
    "from pygan.discriminativemodel.nn_model import NNModel\n",
    "# is-a `GANsValueFunction`.\n",
    "from pygan.gansvaluefunction.mini_max import MiniMax\n",
    "# GANs framework.\n",
    "from pygan.generative_adversarial_networks import GenerativeAdversarialNetworks"
   ]
  },
  {
   "cell_type": "markdown",
   "metadata": {},
   "source": [
    "## Testing"
   ]
  },
  {
   "cell_type": "code",
   "execution_count": null,
   "metadata": {},
   "outputs": [],
   "source": [
    "batch_size = 20\n",
    "seq_len = 30\n",
    "dim = 5"
   ]
  },
  {
   "cell_type": "markdown",
   "metadata": {},
   "source": [
    "## Credits & Links"
   ]
  },
  {
   "cell_type": "markdown",
   "metadata": {},
   "source": [
    "https://machinelearningmastery.com/what-are-generative-adversarial-networks-gans/  \n",
    "https://machinelearningmastery.com/how-to-develop-a-conditional-generative-adversarial-network-from-scratch/"
   ]
  },
  {
   "cell_type": "code",
   "execution_count": null,
   "metadata": {},
   "outputs": [],
   "source": []
  }
 ],
 "metadata": {
  "kernelspec": {
   "display_name": "Python 3",
   "language": "python",
   "name": "python3"
  },
  "language_info": {
   "codemirror_mode": {
    "name": "ipython",
    "version": 3
   },
   "file_extension": ".py",
   "mimetype": "text/x-python",
   "name": "python",
   "nbconvert_exporter": "python",
   "pygments_lexer": "ipython3",
   "version": "3.6.6"
  }
 },
 "nbformat": 4,
 "nbformat_minor": 2
}
