{
 "cells": [
  {
   "cell_type": "markdown",
   "metadata": {},
   "source": [
    "# RF Random Forest\n",
    "### Using: $\\textit{sklearn}$ for classification (also regression compared)"
   ]
  },
  {
   "cell_type": "markdown",
   "metadata": {},
   "source": [
    "## Imports"
   ]
  },
  {
   "cell_type": "code",
   "execution_count": 2,
   "metadata": {},
   "outputs": [],
   "source": [
    "import numpy as np\n",
    "import pandas as pd\n",
    "from sklearn.model_selection import train_test_split\n",
    "from sklearn.ensemble import RandomForestRegressor\n",
    "from sklearn.metrics import r2_score,mean_squared_error\n",
    "import seaborn as sns"
   ]
  },
  {
   "cell_type": "markdown",
   "metadata": {},
   "source": [
    "## Load data"
   ]
  },
  {
   "cell_type": "code",
   "execution_count": 10,
   "metadata": {},
   "outputs": [
    {
     "data": {
      "text/html": [
       "<div>\n",
       "<style scoped>\n",
       "    .dataframe tbody tr th:only-of-type {\n",
       "        vertical-align: middle;\n",
       "    }\n",
       "\n",
       "    .dataframe tbody tr th {\n",
       "        vertical-align: top;\n",
       "    }\n",
       "\n",
       "    .dataframe thead th {\n",
       "        text-align: right;\n",
       "    }\n",
       "</style>\n",
       "<table border=\"1\" class=\"dataframe\">\n",
       "  <thead>\n",
       "    <tr style=\"text-align: right;\">\n",
       "      <th></th>\n",
       "      <th>x</th>\n",
       "      <th>y</th>\n",
       "    </tr>\n",
       "  </thead>\n",
       "  <tbody>\n",
       "    <tr>\n",
       "      <th>0</th>\n",
       "      <td>59.000000</td>\n",
       "      <td>152.553428</td>\n",
       "    </tr>\n",
       "    <tr>\n",
       "      <th>1</th>\n",
       "      <td>88.696970</td>\n",
       "      <td>158.420441</td>\n",
       "    </tr>\n",
       "    <tr>\n",
       "      <th>2</th>\n",
       "      <td>87.443939</td>\n",
       "      <td>154.189316</td>\n",
       "    </tr>\n",
       "    <tr>\n",
       "      <th>3</th>\n",
       "      <td>110.090909</td>\n",
       "      <td>161.136969</td>\n",
       "    </tr>\n",
       "    <tr>\n",
       "      <th>4</th>\n",
       "      <td>126.787879</td>\n",
       "      <td>158.819572</td>\n",
       "    </tr>\n",
       "  </tbody>\n",
       "</table>\n",
       "</div>"
      ],
      "text/plain": [
       "            x           y\n",
       "0   59.000000  152.553428\n",
       "1   88.696970  158.420441\n",
       "2   87.443939  154.189316\n",
       "3  110.090909  161.136969\n",
       "4  126.787879  158.819572"
      ]
     },
     "execution_count": 10,
     "metadata": {},
     "output_type": "execute_result"
    }
   ],
   "source": [
    "ds = pd.read_csv('D:/data/csv/rfReg.csv')\n",
    "ds.head()"
   ]
  },
  {
   "cell_type": "markdown",
   "metadata": {},
   "source": [
    "#### Preprocess & split (train/test)"
   ]
  },
  {
   "cell_type": "code",
   "execution_count": 21,
   "metadata": {},
   "outputs": [
    {
     "name": "stdout",
     "output_type": "stream",
     "text": [
      "Train :  (70, 1) (70, 1)\n",
      "Test :  (30, 1) (30, 1)\n"
     ]
    }
   ],
   "source": [
    "x = ds.x.values.reshape(-1, 1)\n",
    "y = ds.y.values.reshape(-1, 1)\n",
    "train_x, test_x, train_y, test_y = train_test_split(x, y, test_size=0.30, random_state=42)\n",
    "print('Train : ', train_x.shape, train_y.shape)\n",
    "print('Test : ', test_x.shape, test_y.shape)"
   ]
  },
  {
   "cell_type": "markdown",
   "metadata": {},
   "source": [
    "## Build model"
   ]
  },
  {
   "cell_type": "code",
   "execution_count": 25,
   "metadata": {},
   "outputs": [
    {
     "name": "stderr",
     "output_type": "stream",
     "text": [
      "<ipython-input-25-1eba97395d73>:4: DataConversionWarning: A column-vector y was passed when a 1d array was expected. Please change the shape of y to (n_samples,), for example using ravel().\n",
      "  model.fit(train_x, train_y)\n"
     ]
    },
    {
     "data": {
      "text/plain": [
       "RandomForestRegressor(bootstrap=True, ccp_alpha=0.0, criterion='mse',\n",
       "                      max_depth=None, max_features='auto', max_leaf_nodes=None,\n",
       "                      max_samples=None, min_impurity_decrease=0.0,\n",
       "                      min_impurity_split=None, min_samples_leaf=1,\n",
       "                      min_samples_split=2, min_weight_fraction_leaf=0.0,\n",
       "                      n_estimators=100, n_jobs=None, oob_score=False,\n",
       "                      random_state=None, verbose=0, warm_start=False)"
      ]
     },
     "execution_count": 25,
     "metadata": {},
     "output_type": "execute_result"
    }
   ],
   "source": [
    "train_X = np.ravel(train_X)\n",
    "train_Y = np.ravel(train_y)\n",
    "model = RandomForestRegressor()\n",
    "model.fit(train_x, train_y)"
   ]
  },
  {
   "cell_type": "code",
   "execution_count": 30,
   "metadata": {},
   "outputs": [
    {
     "name": "stdout",
     "output_type": "stream",
     "text": [
      "MAE =  6.95\n"
     ]
    },
    {
     "data": {
      "text/html": [
       "<div>\n",
       "<style scoped>\n",
       "    .dataframe tbody tr th:only-of-type {\n",
       "        vertical-align: middle;\n",
       "    }\n",
       "\n",
       "    .dataframe tbody tr th {\n",
       "        vertical-align: top;\n",
       "    }\n",
       "\n",
       "    .dataframe thead th {\n",
       "        text-align: right;\n",
       "    }\n",
       "</style>\n",
       "<table border=\"1\" class=\"dataframe\">\n",
       "  <thead>\n",
       "    <tr style=\"text-align: right;\">\n",
       "      <th></th>\n",
       "      <th>0</th>\n",
       "    </tr>\n",
       "  </thead>\n",
       "  <tbody>\n",
       "    <tr>\n",
       "      <th>172.601093</th>\n",
       "      <td>171.811944</td>\n",
       "    </tr>\n",
       "    <tr>\n",
       "      <th>167.766762</th>\n",
       "      <td>168.162747</td>\n",
       "    </tr>\n",
       "    <tr>\n",
       "      <th>172.539462</th>\n",
       "      <td>171.010670</td>\n",
       "    </tr>\n",
       "    <tr>\n",
       "      <th>164.789353</th>\n",
       "      <td>163.923948</td>\n",
       "    </tr>\n",
       "    <tr>\n",
       "      <th>164.633482</th>\n",
       "      <td>162.209623</td>\n",
       "    </tr>\n",
       "    <tr>\n",
       "      <th>161.402125</th>\n",
       "      <td>164.575541</td>\n",
       "    </tr>\n",
       "    <tr>\n",
       "      <th>159.165634</th>\n",
       "      <td>160.968390</td>\n",
       "    </tr>\n",
       "    <tr>\n",
       "      <th>169.741910</th>\n",
       "      <td>171.818232</td>\n",
       "    </tr>\n",
       "    <tr>\n",
       "      <th>157.738312</th>\n",
       "      <td>157.542862</td>\n",
       "    </tr>\n",
       "    <tr>\n",
       "      <th>155.810297</th>\n",
       "      <td>152.553428</td>\n",
       "    </tr>\n",
       "    <tr>\n",
       "      <th>159.510540</th>\n",
       "      <td>158.229406</td>\n",
       "    </tr>\n",
       "    <tr>\n",
       "      <th>161.892541</th>\n",
       "      <td>161.205678</td>\n",
       "    </tr>\n",
       "    <tr>\n",
       "      <th>168.423027</th>\n",
       "      <td>174.008075</td>\n",
       "    </tr>\n",
       "    <tr>\n",
       "      <th>163.057562</th>\n",
       "      <td>160.884578</td>\n",
       "    </tr>\n",
       "    <tr>\n",
       "      <th>175.776760</th>\n",
       "      <td>174.421428</td>\n",
       "    </tr>\n",
       "    <tr>\n",
       "      <th>159.674272</th>\n",
       "      <td>158.819572</td>\n",
       "    </tr>\n",
       "    <tr>\n",
       "      <th>171.063985</th>\n",
       "      <td>171.643791</td>\n",
       "    </tr>\n",
       "    <tr>\n",
       "      <th>171.852516</th>\n",
       "      <td>171.068652</td>\n",
       "    </tr>\n",
       "    <tr>\n",
       "      <th>156.171324</th>\n",
       "      <td>159.347561</td>\n",
       "    </tr>\n",
       "    <tr>\n",
       "      <th>162.506963</th>\n",
       "      <td>166.310617</td>\n",
       "    </tr>\n",
       "    <tr>\n",
       "      <th>167.051867</th>\n",
       "      <td>169.195894</td>\n",
       "    </tr>\n",
       "    <tr>\n",
       "      <th>174.889041</th>\n",
       "      <td>172.773813</td>\n",
       "    </tr>\n",
       "    <tr>\n",
       "      <th>161.746753</th>\n",
       "      <td>159.319225</td>\n",
       "    </tr>\n",
       "    <tr>\n",
       "      <th>164.583660</th>\n",
       "      <td>164.541431</td>\n",
       "    </tr>\n",
       "    <tr>\n",
       "      <th>171.002467</th>\n",
       "      <td>168.800670</td>\n",
       "    </tr>\n",
       "    <tr>\n",
       "      <th>157.428426</th>\n",
       "      <td>158.329970</td>\n",
       "    </tr>\n",
       "    <tr>\n",
       "      <th>163.948401</th>\n",
       "      <td>165.855721</td>\n",
       "    </tr>\n",
       "    <tr>\n",
       "      <th>173.567734</th>\n",
       "      <td>176.001331</td>\n",
       "    </tr>\n",
       "    <tr>\n",
       "      <th>157.774276</th>\n",
       "      <td>159.357847</td>\n",
       "    </tr>\n",
       "    <tr>\n",
       "      <th>171.512889</th>\n",
       "      <td>170.610166</td>\n",
       "    </tr>\n",
       "  </tbody>\n",
       "</table>\n",
       "</div>"
      ],
      "text/plain": [
       "                     0\n",
       "172.601093  171.811944\n",
       "167.766762  168.162747\n",
       "172.539462  171.010670\n",
       "164.789353  163.923948\n",
       "164.633482  162.209623\n",
       "161.402125  164.575541\n",
       "159.165634  160.968390\n",
       "169.741910  171.818232\n",
       "157.738312  157.542862\n",
       "155.810297  152.553428\n",
       "159.510540  158.229406\n",
       "161.892541  161.205678\n",
       "168.423027  174.008075\n",
       "163.057562  160.884578\n",
       "175.776760  174.421428\n",
       "159.674272  158.819572\n",
       "171.063985  171.643791\n",
       "171.852516  171.068652\n",
       "156.171324  159.347561\n",
       "162.506963  166.310617\n",
       "167.051867  169.195894\n",
       "174.889041  172.773813\n",
       "161.746753  159.319225\n",
       "164.583660  164.541431\n",
       "171.002467  168.800670\n",
       "157.428426  158.329970\n",
       "163.948401  165.855721\n",
       "173.567734  176.001331\n",
       "157.774276  159.357847\n",
       "171.512889  170.610166"
      ]
     },
     "execution_count": 30,
     "metadata": {},
     "output_type": "execute_result"
    }
   ],
   "source": [
    "pred = model.predict(test_X)\n",
    "\n",
    "mae = np.mean(abs(test_y - pred))\n",
    "print('MAE = ', round(mae, 2))\n",
    "\n",
    "res"
   ]
  },
  {
   "cell_type": "markdown",
   "metadata": {},
   "source": [
    "## Credits & Links"
   ]
  },
  {
   "cell_type": "markdown",
   "metadata": {},
   "source": [
    "https://heartbeat.fritz.ai/random-forest-regression-in-python-using-scikit-learn-9e9b147e2153"
   ]
  }
 ],
 "metadata": {
  "kernelspec": {
   "display_name": "Python 3",
   "language": "python",
   "name": "python3"
  },
  "language_info": {
   "codemirror_mode": {
    "name": "ipython",
    "version": 3
   },
   "file_extension": ".py",
   "mimetype": "text/x-python",
   "name": "python",
   "nbconvert_exporter": "python",
   "pygments_lexer": "ipython3",
   "version": "3.8.1"
  }
 },
 "nbformat": 4,
 "nbformat_minor": 4
}
