{
 "cells": [
  {
   "cell_type": "markdown",
   "metadata": {},
   "source": [
    "# RBF Radial Based Functions\n",
    "### From scratch"
   ]
  },
  {
   "cell_type": "markdown",
   "metadata": {},
   "source": [
    "## Imports"
   ]
  },
  {
   "cell_type": "code",
   "execution_count": null,
   "metadata": {},
   "outputs": [],
   "source": [
    "from scipy import *\n",
    "from scipy.linalg import norm, pinv \n",
    "import numpy as np\n",
    "import matplotlib.pyplot as plt"
   ]
  },
  {
   "cell_type": "markdown",
   "metadata": {},
   "source": [
    "$ \\large rbf = \\exp{(\\beta . N(c-d)^2)} $"
   ]
  },
  {
   "cell_type": "markdown",
   "metadata": {},
   "source": [
    "## Class and Functions definition"
   ]
  },
  {
   "cell_type": "code",
   "execution_count": null,
   "metadata": {},
   "outputs": [],
   "source": [
    "class RBF:\n",
    "     \n",
    "    # Constructor\n",
    "    def __init__(self, indim, numCenters, outdim):\n",
    "        self.indim = indim\n",
    "        self.outdim = outdim\n",
    "        self.numCenters = numCenters\n",
    "        self.centers = [random.uniform(-1, 1, indim) for i in range(numCenters)]\n",
    "        self.beta = 8\n",
    "        self.W = random.random((self.numCenters, self.outdim))\n",
    "         \n",
    "    # RBF\n",
    "    def basisFun(self, c, d):\n",
    "        assert len(d) == self.indim\n",
    "        return exp(-self.beta * norm(c-d)**2)\n",
    "    \n",
    "    # Calculate activations of RBFs\n",
    "    def calcAct(self, X):\n",
    "        G = zeros((X.shape[0], self.numCenters), float)\n",
    "        for ci, c in enumerate(self.centers):\n",
    "            for xi, x in enumerate(X):\n",
    "                G[xi,ci] = self.basisFun(c, x)\n",
    "        return G\n",
    "    \n",
    "    # X: matrix of dimensions n x indim , y: column vector of dimension n x 1. Originally random center vectors.\n",
    "    def Train(self, X, Y):\n",
    "        rnd_idx = random.permutation(X.shape[0])[:self.numCenters]\n",
    "        self.centers = [X[i,:] for i in rnd_idx]\n",
    "        print(\"center\", self.centers)\n",
    "        G = self.calcAct(X)\n",
    "        print(G)\n",
    "         \n",
    "        self.W = dot(pinv(G), Y)\n",
    "\n",
    "    # X: matrix of dimensions n x indim  \n",
    "    def Test(self, X):\n",
    "        G = self.calcAct(X)\n",
    "        Y = dot(G, self.W)\n",
    "        return Y"
   ]
  },
  {
   "cell_type": "markdown",
   "metadata": {},
   "source": [
    "## Testing"
   ]
  },
  {
   "cell_type": "code",
   "execution_count": null,
   "metadata": {},
   "outputs": [],
   "source": [
    "# Generate data (set y and random noise)\n",
    "n = 100\n",
    "     \n",
    "x = mgrid[-1:1:complex(0,n)].reshape(n, 1)\n",
    "y = sin(3*(x+0.5)**3 - 1)\n",
    "     \n",
    "# RBF regression\n",
    "rbf = RBF(1, 10, 1)\n",
    "rbf.Train(x, y)\n",
    "z = rbf.Test(x)\n",
    "       \n",
    "# Plot original data and learned model\n",
    "plt.figure(figsize=(12, 8))\n",
    "plt.plot(x, y, 'k-')\n",
    "plt.plot(x, z, 'r-', linewidth=2)\n",
    "     \n",
    "# Plot rbfs (each RF prediction lines)\n",
    "plt.plot(rbf.centers, zeros(rbf.numCenters), 'gs')     \n",
    "for c in rbf.centers:\n",
    "    cx = arange(c-0.7, c+0.7, 0.01)\n",
    "    cy = [rbf.basisFun(array([cx_]), array([c])) for cx_ in cx]\n",
    "    plt.plot(cx, cy, '-', color='gray', linewidth=0.2)\n",
    "     \n",
    "plt.xlim(-1.2, 1.2)\n",
    "plt.show()"
   ]
  }
 ],
 "metadata": {
  "kernelspec": {
   "display_name": "Python 3",
   "language": "python",
   "name": "python3"
  },
  "language_info": {
   "codemirror_mode": {
    "name": "ipython",
    "version": 3
   },
   "file_extension": ".py",
   "mimetype": "text/x-python",
   "name": "python",
   "nbconvert_exporter": "python",
   "pygments_lexer": "ipython3",
   "version": "3.6.6"
  }
 },
 "nbformat": 4,
 "nbformat_minor": 2
}
