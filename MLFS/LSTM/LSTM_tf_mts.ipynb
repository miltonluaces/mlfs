{
 "cells": [
  {
   "cell_type": "markdown",
   "metadata": {},
   "source": [
    "# LSTM for Time Series\n",
    "### With TensorFlow/Keras: Multivariate time series"
   ]
  },
  {
   "cell_type": "code",
   "execution_count": 2,
   "metadata": {},
   "outputs": [],
   "source": [
    "import numpy as np\n",
    "import pandas as pd\n",
    "from datetime import datetime\n",
    "import matplotlib.pyplot as plt\n",
    "from math import sqrt\n",
    "from sklearn.preprocessing import MinMaxScaler\n",
    "from sklearn.preprocessing import LabelEncoder\n",
    "from sklearn.metrics import mean_squared_error\n",
    "import tensorflow.keras.models as tkm\n",
    "import tensorflow.keras.layers as tkl"
   ]
  },
  {
   "cell_type": "markdown",
   "metadata": {},
   "source": [
    "## Load and transform dataset"
   ]
  },
  {
   "cell_type": "code",
   "execution_count": 8,
   "metadata": {},
   "outputs": [
    {
     "data": {
      "text/html": [
       "<div>\n",
       "<style scoped>\n",
       "    .dataframe tbody tr th:only-of-type {\n",
       "        vertical-align: middle;\n",
       "    }\n",
       "\n",
       "    .dataframe tbody tr th {\n",
       "        vertical-align: top;\n",
       "    }\n",
       "\n",
       "    .dataframe thead th {\n",
       "        text-align: right;\n",
       "    }\n",
       "</style>\n",
       "<table border=\"1\" class=\"dataframe\">\n",
       "  <thead>\n",
       "    <tr style=\"text-align: right;\">\n",
       "      <th></th>\n",
       "      <th>pollution</th>\n",
       "      <th>dew</th>\n",
       "      <th>temp</th>\n",
       "      <th>press</th>\n",
       "      <th>wnd_dir</th>\n",
       "      <th>wnd_spd</th>\n",
       "      <th>snow</th>\n",
       "      <th>rain</th>\n",
       "    </tr>\n",
       "    <tr>\n",
       "      <th>date</th>\n",
       "      <th></th>\n",
       "      <th></th>\n",
       "      <th></th>\n",
       "      <th></th>\n",
       "      <th></th>\n",
       "      <th></th>\n",
       "      <th></th>\n",
       "      <th></th>\n",
       "    </tr>\n",
       "  </thead>\n",
       "  <tbody>\n",
       "    <tr>\n",
       "      <th>2010-01-02 00:00:00</th>\n",
       "      <td>129.0</td>\n",
       "      <td>-16</td>\n",
       "      <td>-4.0</td>\n",
       "      <td>1020.0</td>\n",
       "      <td>SE</td>\n",
       "      <td>1.79</td>\n",
       "      <td>0</td>\n",
       "      <td>0</td>\n",
       "    </tr>\n",
       "    <tr>\n",
       "      <th>2010-01-02 01:00:00</th>\n",
       "      <td>148.0</td>\n",
       "      <td>-15</td>\n",
       "      <td>-4.0</td>\n",
       "      <td>1020.0</td>\n",
       "      <td>SE</td>\n",
       "      <td>2.68</td>\n",
       "      <td>0</td>\n",
       "      <td>0</td>\n",
       "    </tr>\n",
       "    <tr>\n",
       "      <th>2010-01-02 02:00:00</th>\n",
       "      <td>159.0</td>\n",
       "      <td>-11</td>\n",
       "      <td>-5.0</td>\n",
       "      <td>1021.0</td>\n",
       "      <td>SE</td>\n",
       "      <td>3.57</td>\n",
       "      <td>0</td>\n",
       "      <td>0</td>\n",
       "    </tr>\n",
       "    <tr>\n",
       "      <th>2010-01-02 03:00:00</th>\n",
       "      <td>181.0</td>\n",
       "      <td>-7</td>\n",
       "      <td>-5.0</td>\n",
       "      <td>1022.0</td>\n",
       "      <td>SE</td>\n",
       "      <td>5.36</td>\n",
       "      <td>1</td>\n",
       "      <td>0</td>\n",
       "    </tr>\n",
       "    <tr>\n",
       "      <th>2010-01-02 04:00:00</th>\n",
       "      <td>138.0</td>\n",
       "      <td>-7</td>\n",
       "      <td>-5.0</td>\n",
       "      <td>1022.0</td>\n",
       "      <td>SE</td>\n",
       "      <td>6.25</td>\n",
       "      <td>2</td>\n",
       "      <td>0</td>\n",
       "    </tr>\n",
       "  </tbody>\n",
       "</table>\n",
       "</div>"
      ],
      "text/plain": [
       "                     pollution  dew  temp   press wnd_dir  wnd_spd  snow  rain\n",
       "date                                                                          \n",
       "2010-01-02 00:00:00      129.0  -16  -4.0  1020.0      SE     1.79     0     0\n",
       "2010-01-02 01:00:00      148.0  -15  -4.0  1020.0      SE     2.68     0     0\n",
       "2010-01-02 02:00:00      159.0  -11  -5.0  1021.0      SE     3.57     0     0\n",
       "2010-01-02 03:00:00      181.0   -7  -5.0  1022.0      SE     5.36     1     0\n",
       "2010-01-02 04:00:00      138.0   -7  -5.0  1022.0      SE     6.25     2     0"
      ]
     },
     "execution_count": 8,
     "metadata": {},
     "output_type": "execute_result"
    }
   ],
   "source": [
    "ds = pd.read_csv('D:/data/csv/airpolution.csv',  parse_dates = [['year', 'month', 'day', 'hour']], index_col=0, date_parser=lambda x: datetime.strptime(x, '%Y %m %d %H'))\n",
    "ds.drop('No', axis=1, inplace=True)\n",
    "ds.columns = ['pollution', 'dew', 'temp', 'press', 'wnd_dir', 'wnd_spd', 'snow', 'rain']\n",
    "ds.index.name = 'date'\n",
    "ds['pollution'].fillna(0, inplace=True)\n",
    "ds = ds[24:] # drop first 24 hours\n",
    "ds.to_csv('D:/data/csv/pollution.csv')\n",
    "ds.head(5)"
   ]
  },
  {
   "cell_type": "markdown",
   "metadata": {},
   "source": [
    "### Load and plot data"
   ]
  },
  {
   "cell_type": "code",
   "execution_count": 33,
   "metadata": {},
   "outputs": [
    {
     "data": {
      "image/png": "[encoded data removed]",
      "text/plain": [
       "<Figure size 432x288 with 7 Axes>"
      ]
     },
     "metadata": {
      "needs_background": "light"
     },
     "output_type": "display_data"
    }
   ],
   "source": [
    "dataset = pd.read_csv('D:/data/csv/pollution.csv', header=0, index_col=0)\n",
    "values = dataset.values\n",
    "# specify columns to plot\n",
    "groups = [0, 1, 2, 3, 5, 6, 7]\n",
    "i = 1\n",
    "plt.figure()\n",
    "for group in groups:\n",
    "    plt.subplot(len(groups), 1, i)\n",
    "    plt.plot(values[:, group])\n",
    "    plt.title(dataset.columns[group], y=0.5, loc='right')\n",
    "    i += 1\n",
    "plt.show()"
   ]
  },
  {
   "cell_type": "markdown",
   "metadata": {},
   "source": [
    "### Data preparation"
   ]
  },
  {
   "cell_type": "code",
   "execution_count": 34,
   "metadata": {},
   "outputs": [],
   "source": [
    "def ts2sup_df(data, n_in=1, n_out=1, dropnan=True):\n",
    "    n_vars = 1 if type(data) is list else data.shape[1]\n",
    "    df = pd.DataFrame(data)\n",
    "    cols, names = list(), list()\n",
    "    \n",
    "    # input sequence (t-n, ... t-1)\n",
    "    for i in range(n_in, 0, -1):\n",
    "        cols.append(df.shift(i))\n",
    "        names += [('var%d(t-%d)' % (j+1, i)) for j in range(n_vars)]\n",
    "    \n",
    "    # forecast sequence (t, t+1, ... t+n)\n",
    "    for i in range(0, n_out):\n",
    "        cols.append(df.shift(-i))\n",
    "        if i == 0:\n",
    "            names += [('var%d(t)' % (j+1)) for j in range(n_vars)]\n",
    "        else:\n",
    "            names += [('var%d(t+%d)' % (j+1, i)) for j in range(n_vars)]\n",
    "    \n",
    "    agg = pd.concat(cols, axis=1)\n",
    "    agg.columns = names\n",
    "    if dropnan:\n",
    "        agg.dropna(inplace=True)\n",
    "    return agg"
   ]
  },
  {
   "cell_type": "code",
   "execution_count": 35,
   "metadata": {},
   "outputs": [],
   "source": [
    "values = ds.values\n",
    "encoder = LabelEncoder()\n",
    "values[:,4] = encoder.fit_transform(values[:,4])\n",
    "values = values.astype('float32')\n",
    "\n",
    "scaler = MinMaxScaler(feature_range=(0, 1))\n",
    "scaled = scaler.fit_transform(values)\n",
    "\n",
    "reframed = ts2sup_df(scaled, 1, 1)\n",
    "reframed.drop(reframed.columns[[9,10,11,12,13,14,15]], axis=1, inplace=True) #keep only cols to  predict\n",
    "print(reframed.head())\n",
    " "
   ]
  },
  {
   "cell_type": "markdown",
   "metadata": {},
   "source": [
    "### Split into train and test / inputs and outputs"
   ]
  },
  {
   "cell_type": "code",
   "execution_count": 44,
   "metadata": {},
   "outputs": [
    {
     "name": "stdout",
     "output_type": "stream",
     "text": [
      "(8760, 1, 8) (8760,) (35039, 1, 8) (35039,)\n"
     ]
    }
   ],
   "source": [
    "values = reframed.values\n",
    "n_train_hours = 365 * 24\n",
    "train = values[:n_train_hours, :]\n",
    "test = values[n_train_hours:, :]\n",
    "\n",
    "train_X, train_y = train[:, :-1], train[:, -1]\n",
    "test_X, test_y = test[:, :-1], test[:, -1]\n",
    "\n",
    "# reshape input to be 3D [samples, timesteps, features]\n",
    "train_X = train_X.reshape((train_X.shape[0], 1, train_X.shape[1]))\n",
    "test_X = test_X.reshape((test_X.shape[0], 1, test_X.shape[1]))\n",
    "print(train_X.shape, train_y.shape, test_X.shape, test_y.shape)"
   ]
  },
  {
   "cell_type": "markdown",
   "metadata": {},
   "source": [
    "## Modelling"
   ]
  },
  {
   "cell_type": "code",
   "execution_count": 36,
   "metadata": {},
   "outputs": [
    {
     "name": "stdout",
     "output_type": "stream",
     "text": [
      "Epoch 1/50\n",
      "122/122 - 1s - loss: 0.0622 - val_loss: 0.0511\n",
      "Epoch 2/50\n",
      "122/122 - 1s - loss: 0.0415 - val_loss: 0.0504\n",
      "Epoch 3/50\n",
      "122/122 - 1s - loss: 0.0238 - val_loss: 0.0368\n",
      "Epoch 4/50\n",
      "122/122 - 1s - loss: 0.0162 - val_loss: 0.0209\n",
      "Epoch 5/50\n",
      "122/122 - 1s - loss: 0.0147 - val_loss: 0.0151\n",
      "Epoch 6/50\n",
      "122/122 - 1s - loss: 0.0147 - val_loss: 0.0149\n",
      "Epoch 7/50\n",
      "122/122 - 1s - loss: 0.0147 - val_loss: 0.0148\n",
      "Epoch 8/50\n",
      "122/122 - 1s - loss: 0.0148 - val_loss: 0.0148\n",
      "Epoch 9/50\n",
      "122/122 - 1s - loss: 0.0147 - val_loss: 0.0145\n",
      "Epoch 10/50\n",
      "122/122 - 1s - loss: 0.0145 - val_loss: 0.0145\n",
      "Epoch 11/50\n",
      "122/122 - 1s - loss: 0.0146 - val_loss: 0.0140\n",
      "Epoch 12/50\n",
      "122/122 - 1s - loss: 0.0145 - val_loss: 0.0141\n",
      "Epoch 13/50\n",
      "122/122 - 1s - loss: 0.0146 - val_loss: 0.0137\n",
      "Epoch 14/50\n",
      "122/122 - 1s - loss: 0.0145 - val_loss: 0.0138\n",
      "Epoch 15/50\n",
      "122/122 - 1s - loss: 0.0145 - val_loss: 0.0139\n",
      "Epoch 16/50\n",
      "122/122 - 1s - loss: 0.0145 - val_loss: 0.0136\n",
      "Epoch 17/50\n",
      "122/122 - 1s - loss: 0.0144 - val_loss: 0.0138\n",
      "Epoch 18/50\n",
      "122/122 - 1s - loss: 0.0145 - val_loss: 0.0136\n",
      "Epoch 19/50\n",
      "122/122 - 1s - loss: 0.0145 - val_loss: 0.0136\n",
      "Epoch 20/50\n",
      "122/122 - 1s - loss: 0.0145 - val_loss: 0.0136\n",
      "Epoch 21/50\n",
      "122/122 - 1s - loss: 0.0144 - val_loss: 0.0136\n",
      "Epoch 22/50\n",
      "122/122 - 1s - loss: 0.0144 - val_loss: 0.0136\n",
      "Epoch 23/50\n",
      "122/122 - 1s - loss: 0.0144 - val_loss: 0.0136\n",
      "Epoch 24/50\n",
      "122/122 - 1s - loss: 0.0144 - val_loss: 0.0136\n",
      "Epoch 25/50\n",
      "122/122 - 1s - loss: 0.0144 - val_loss: 0.0136\n",
      "Epoch 26/50\n",
      "122/122 - 1s - loss: 0.0145 - val_loss: 0.0136\n",
      "Epoch 27/50\n",
      "122/122 - 1s - loss: 0.0144 - val_loss: 0.0136\n",
      "Epoch 28/50\n",
      "122/122 - 1s - loss: 0.0144 - val_loss: 0.0136\n",
      "Epoch 29/50\n",
      "122/122 - 1s - loss: 0.0144 - val_loss: 0.0135\n",
      "Epoch 30/50\n",
      "122/122 - 1s - loss: 0.0144 - val_loss: 0.0136\n",
      "Epoch 31/50\n",
      "122/122 - 1s - loss: 0.0144 - val_loss: 0.0136\n",
      "Epoch 32/50\n",
      "122/122 - 1s - loss: 0.0145 - val_loss: 0.0136\n",
      "Epoch 33/50\n",
      "122/122 - 1s - loss: 0.0144 - val_loss: 0.0136\n",
      "Epoch 34/50\n",
      "122/122 - 1s - loss: 0.0144 - val_loss: 0.0136\n",
      "Epoch 35/50\n",
      "122/122 - 1s - loss: 0.0144 - val_loss: 0.0136\n",
      "Epoch 36/50\n",
      "122/122 - 1s - loss: 0.0144 - val_loss: 0.0135\n",
      "Epoch 37/50\n",
      "122/122 - 1s - loss: 0.0144 - val_loss: 0.0138\n",
      "Epoch 38/50\n",
      "122/122 - 1s - loss: 0.0145 - val_loss: 0.0136\n",
      "Epoch 39/50\n",
      "122/122 - 1s - loss: 0.0144 - val_loss: 0.0136\n",
      "Epoch 40/50\n",
      "122/122 - 1s - loss: 0.0144 - val_loss: 0.0135\n",
      "Epoch 41/50\n",
      "122/122 - 1s - loss: 0.0143 - val_loss: 0.0135\n",
      "Epoch 42/50\n",
      "122/122 - 1s - loss: 0.0143 - val_loss: 0.0135\n",
      "Epoch 43/50\n",
      "122/122 - 1s - loss: 0.0144 - val_loss: 0.0137\n",
      "Epoch 44/50\n",
      "122/122 - 1s - loss: 0.0144 - val_loss: 0.0136\n",
      "Epoch 45/50\n",
      "122/122 - 1s - loss: 0.0143 - val_loss: 0.0136\n",
      "Epoch 46/50\n",
      "122/122 - 1s - loss: 0.0143 - val_loss: 0.0136\n",
      "Epoch 47/50\n",
      "122/122 - 1s - loss: 0.0143 - val_loss: 0.0136\n",
      "Epoch 48/50\n",
      "122/122 - 1s - loss: 0.0143 - val_loss: 0.0135\n",
      "Epoch 49/50\n",
      "122/122 - 1s - loss: 0.0143 - val_loss: 0.0135\n",
      "Epoch 50/50\n",
      "122/122 - 1s - loss: 0.0143 - val_loss: 0.0136\n"
     ]
    },
    {
     "data": {
      "image/png": "[encoded data removed]",
      "text/plain": [
       "<Figure size 432x288 with 1 Axes>"
      ]
     },
     "metadata": {
      "needs_background": "light"
     },
     "output_type": "display_data"
    }
   ],
   "source": [
    "model = tkm.Sequential()\n",
    "model.add(tkl.LSTM(50, input_shape=(train_X.shape[1], train_X.shape[2])))\n",
    "model.add(tkl.Dense(1))\n",
    "model.compile(loss='mae', optimizer='adam')\n",
    "\n",
    "history = model.fit(train_X, train_y, epochs=50, batch_size=72, validation_data=(test_X, test_y), verbose=2, shuffle=False)\n",
    "\n",
    "# plot history\n",
    "plt.plot(history.history['loss'], label='train')\n",
    "plt.plot(history.history['val_loss'], label='test')\n",
    "plt.legend()\n",
    "plt.show()"
   ]
  },
  {
   "cell_type": "markdown",
   "metadata": {},
   "source": [
    "## Validation"
   ]
  },
  {
   "cell_type": "code",
   "execution_count": 41,
   "metadata": {},
   "outputs": [
    {
     "name": "stdout",
     "output_type": "stream",
     "text": [
      "Test RMSE: 26.636\n"
     ]
    }
   ],
   "source": [
    "\n",
    "#pred = model.predict(test_X)\n",
    "test_X = test_X.reshape((test_X.shape[0], test_X.shape[2]))\n",
    "\n",
    "# invert scaling for forecast\n",
    "inv_pred = np.concatenate((pred, test_X[:, 1:]), axis=1)\n",
    "inv_pred = scaler.inverse_transform(inv_pred)\n",
    "inv_pred = inv_pred[:,0]\n",
    "\n",
    "# invert scaling for actual\n",
    "test_y = test_y.reshape((len(test_y), 1))\n",
    "inv_y = np.concatenate((test_y, test_X[:, 1:]), axis=1)\n",
    "inv_y = scaler.inverse_transform(inv_y)\n",
    "inv_y = inv_y[:,0]\n",
    "\n",
    "# calculate RMSE\n",
    "rmse = sqrt(mean_squared_error(inv_y, inv_pred))\n",
    "print('Test RMSE: %.3f' % rmse)"
   ]
  },
  {
   "cell_type": "markdown",
   "metadata": {},
   "source": [
    "## Credits & Links"
   ]
  },
  {
   "cell_type": "markdown",
   "metadata": {},
   "source": [
    "https://machinelearningmastery.com/multivariate-time-series-forecasting-lstms-keras/"
   ]
  }
 ],
 "metadata": {
  "kernelspec": {
   "display_name": "Python 3",
   "language": "python",
   "name": "python3"
  },
  "language_info": {
   "codemirror_mode": {
    "name": "ipython",
    "version": 3
   },
   "file_extension": ".py",
   "mimetype": "text/x-python",
   "name": "python",
   "nbconvert_exporter": "python",
   "pygments_lexer": "ipython3",
   "version": "3.8.1"
  }
 },
 "nbformat": 4,
 "nbformat_minor": 4
}
