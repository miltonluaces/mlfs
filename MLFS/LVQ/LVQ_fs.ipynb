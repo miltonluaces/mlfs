{
 "cells": [
  {
   "cell_type": "markdown",
   "metadata": {},
   "source": [
    "# LVQ Local Vector \n",
    "### From scratch"
   ]
  },
  {
   "cell_type": "markdown",
   "metadata": {},
   "source": [
    "## Imports"
   ]
  },
  {
   "cell_type": "code",
   "execution_count": 1,
   "metadata": {},
   "outputs": [],
   "source": [
    "from math import sqrt\n",
    "from random import randrange\n",
    "from random import seed"
   ]
  },
  {
   "cell_type": "markdown",
   "metadata": {},
   "source": [
    "## Function definitions"
   ]
  },
  {
   "cell_type": "code",
   "execution_count": 2,
   "metadata": {},
   "outputs": [],
   "source": [
    "# Calculate the Euclidean distance between two vectors\n",
    "def Dist(row1, row2):\n",
    "\tdistance = 0.0\n",
    "\tfor i in range(len(row1)-1): distance += (row1[i] - row2[i])**2\n",
    "\treturn sqrt(distance)\n",
    "\n",
    "# Locate the best matching unit\n",
    "def GetWinner(values, vec):\n",
    "\tdists = list()\n",
    "\tfor v in values:\n",
    "\t\tdist = Dist(v, vec)\n",
    "\t\tdists.append((v, dist))\n",
    "\tdists.sort(key=lambda tup: tup[1])\n",
    "\treturn dists[0][0]\n",
    "\n",
    "# Create a random sample\n",
    "def GetRandomSample(train):\n",
    "\tnRows = len(train)\n",
    "\tnFeats = len(train[0])\n",
    "\tsample = [train[randrange(nRows)][i] for i in range(nFeats)]\n",
    "\treturn sample\n",
    "\n",
    "# Train a set of vectors\n",
    "def Train(train, nVectors, lrate, epochs):\n",
    "    \n",
    "\tvalues = [GetRandomSample(train) for i in range(nVectors)]\n",
    "\tfor epoch in range(epochs):\n",
    "\t\trate = lrate * (1.0-(epoch/float(epochs))) # lrate decay\n",
    "\t\ttotError = 0.0\n",
    "\t\tfor vec in train:\n",
    "\t\t\tbmu = GetWinner(values, vec)\n",
    "\t\t\tfor i in range(len(vec)-1):\n",
    "\t\t\t\terror = vec[i] - bmu[i]\n",
    "\t\t\t\ttotError += error**2\n",
    "\t\t\t\tif bmu[-1] == vec[-1]: bmu[i] += rate * error # takes nothing \n",
    "\t\t\t\telse: bmu[i] -= rate * error   # takes all\n",
    "\t\tprint('>epoch=%d, lrate=%.3f, error=%.3f' % (epoch, rate, totError))\n",
    "\treturn values"
   ]
  },
  {
   "cell_type": "markdown",
   "metadata": {},
   "source": [
    "## Testing"
   ]
  },
  {
   "cell_type": "code",
   "execution_count": 3,
   "metadata": {},
   "outputs": [
    {
     "name": "stdout",
     "output_type": "stream",
     "text": [
      ">epoch=0, lrate=0.300, error=53.574\n",
      ">epoch=1, lrate=0.270, error=130.425\n",
      ">epoch=2, lrate=0.240, error=278.649\n",
      ">epoch=3, lrate=0.210, error=403.987\n",
      ">epoch=4, lrate=0.180, error=631.206\n",
      ">epoch=5, lrate=0.150, error=811.099\n",
      ">epoch=6, lrate=0.120, error=1077.573\n",
      ">epoch=7, lrate=0.090, error=1175.918\n",
      ">epoch=8, lrate=0.060, error=1245.654\n",
      ">epoch=9, lrate=0.030, error=1285.148\n",
      "Values:  [[15.205351537712776, 0.3505230463634088, 1], [-11.163971797988715, -7.3297233050659125, 1]]\n"
     ]
    }
   ],
   "source": [
    "dataset = [[2.7810836,2.550537003,0],[1.465489372,2.362125076,0],[3.396561688,4.400293529,0],[1.38807019,1.850220317,0],[3.06407232,3.005305973,0],[7.627531214,2.759262235,1],[5.332441248,2.088626775,1],[6.922596716,1.77106367,1],[8.675418651,-0.242068655,1],[7.673756466,3.508563011,1]]\n",
    "lrate = 0.3\n",
    "epochs = 10\n",
    "nVectors = 2\n",
    "values = Train(dataset, nVectors, lrate, epochs)\n",
    "print('Values: ', values)"
   ]
  },
  {
   "cell_type": "code",
   "execution_count": null,
   "metadata": {},
   "outputs": [],
   "source": []
  }
 ],
 "metadata": {
  "kernelspec": {
   "display_name": "Python 3",
   "language": "python",
   "name": "python3"
  },
  "language_info": {
   "codemirror_mode": {
    "name": "ipython",
    "version": 3
   },
   "file_extension": ".py",
   "mimetype": "text/x-python",
   "name": "python",
   "nbconvert_exporter": "python",
   "pygments_lexer": "ipython3",
   "version": "3.6.6"
  }
 },
 "nbformat": 4,
 "nbformat_minor": 2
}
