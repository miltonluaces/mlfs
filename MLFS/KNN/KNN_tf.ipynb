{
 "cells": [
  {
   "cell_type": "markdown",
   "metadata": {},
   "source": [
    "# KNN K Nearest Neighbourhood\n",
    "### Using Tensorflow / Keras\n",
    "Text Distances : This function illustrates how to use the Levenstein distance (edit distance) in Tensorflow."
   ]
  },
  {
   "cell_type": "markdown",
   "metadata": {},
   "source": [
    "## Imports"
   ]
  },
  {
   "cell_type": "code",
   "execution_count": null,
   "metadata": {},
   "outputs": [],
   "source": [
    "import tensorflow as tf"
   ]
  },
  {
   "cell_type": "markdown",
   "metadata": {},
   "source": [
    "## Testing"
   ]
  },
  {
   "cell_type": "code",
   "execution_count": 2,
   "metadata": {},
   "outputs": [
    {
     "name": "stdout",
     "output_type": "stream",
     "text": [
      "[[2.]]\n"
     ]
    }
   ],
   "source": [
    "# Start Graph Session\n",
    "sess = tf.Session()\n",
    "\n",
    "# First compute the edit distance between 'bear' and 'beers'\n",
    "hypothesis = list('bear')\n",
    "truth = list('beers')\n",
    "h1 = tf.SparseTensor([[0,0,0], [0,0,1], [0,0,2], [0,0,3]],\n",
    "                     hypothesis,\n",
    "                     [1,1,1])\n",
    "\n",
    "t1 = tf.SparseTensor([[0,0,0], [0,0,1], [0,0,2], [0,0,3],[0,0,4]],\n",
    "                     truth,\n",
    "                     [1,1,1])\n",
    "\n",
    "print(sess.run(tf.edit_distance(h1, t1, normalize=False)))"
   ]
  },
  {
   "cell_type": "code",
   "execution_count": 3,
   "metadata": {},
   "outputs": [
    {
     "name": "stdout",
     "output_type": "stream",
     "text": [
      "[[0.4 0.2]]\n"
     ]
    }
   ],
   "source": [
    "# Compute the edit distance between ('bear','beer') and 'beers':\n",
    "hypothesis2 = list('bearbeer')\n",
    "truth2 = list('beersbeers')\n",
    "h2 = tf.SparseTensor([[0,0,0], [0,0,1], [0,0,2], [0,0,3], [0,1,0], [0,1,1], [0,1,2], [0,1,3]],\n",
    "                     hypothesis2,\n",
    "                     [1,2,4])\n",
    "\n",
    "t2 = tf.SparseTensor([[0,0,0], [0,0,1], [0,0,2], [0,0,3], [0,0,4], [0,1,0], [0,1,1], [0,1,2], [0,1,3], [0,1,4]],\n",
    "                     truth2,\n",
    "                     [1,2,5])\n",
    "\n",
    "print(sess.run(tf.edit_distance(h2, t2, normalize=True)))"
   ]
  },
  {
   "cell_type": "code",
   "execution_count": 4,
   "metadata": {},
   "outputs": [
    {
     "name": "stdout",
     "output_type": "stream",
     "text": [
      "[[0.4]\n",
      " [0.6]\n",
      " [1. ]\n",
      " [1. ]]\n"
     ]
    }
   ],
   "source": [
    "# Now compute distance between four words and 'beers' more efficiently:\n",
    "hypothesis_words = ['bear','bar','tensor','flow']\n",
    "truth_word = ['beers']\n",
    "\n",
    "num_h_words = len(hypothesis_words)\n",
    "h_indices = [[xi, 0, yi] for xi,x in enumerate(hypothesis_words) for yi,y in enumerate(x)]\n",
    "h_chars = list(''.join(hypothesis_words))\n",
    "\n",
    "h3 = tf.SparseTensor(h_indices, h_chars, [num_h_words,1,1])\n",
    "\n",
    "truth_word_vec = truth_word*num_h_words\n",
    "t_indices = [[xi, 0, yi] for xi,x in enumerate(truth_word_vec) for yi,y in enumerate(x)]\n",
    "t_chars = list(''.join(truth_word_vec))\n",
    "\n",
    "t3 = tf.SparseTensor(t_indices, t_chars, [num_h_words,1,1])\n",
    "\n",
    "print(sess.run(tf.edit_distance(h3, t3, normalize=True)))"
   ]
  },
  {
   "cell_type": "code",
   "execution_count": 5,
   "metadata": {},
   "outputs": [
    {
     "name": "stdout",
     "output_type": "stream",
     "text": [
      "[[0.4]\n",
      " [0.6]\n",
      " [1. ]\n",
      " [1. ]]\n"
     ]
    }
   ],
   "source": [
    "# Now we show how to use sparse tensors in a feed dictionary\n",
    "\n",
    "# Create input data\n",
    "hypothesis_words = ['bear','bar','tensor','flow']\n",
    "truth_word = ['beers']\n",
    "\n",
    "def create_sparse_vec(word_list):\n",
    "    num_words = len(word_list)\n",
    "    indices = [[xi, 0, yi] for xi,x in enumerate(word_list) for yi,y in enumerate(x)]\n",
    "    chars = list(''.join(word_list))\n",
    "    return(tf.SparseTensorValue(indices, chars, [num_words,1,1]))\n",
    "\n",
    "hyp_string_sparse = create_sparse_vec(hypothesis_words)\n",
    "truth_string_sparse = create_sparse_vec(truth_word*len(hypothesis_words))\n",
    "\n",
    "hyp_input = tf.sparse_placeholder(dtype=tf.string)\n",
    "truth_input = tf.sparse_placeholder(dtype=tf.string)\n",
    "\n",
    "edit_distances = tf.edit_distance(hyp_input, truth_input, normalize=True)\n",
    "\n",
    "feed_dict = {hyp_input: hyp_string_sparse,\n",
    "             truth_input: truth_string_sparse}\n",
    "             \n",
    "print(sess.run(edit_distances, feed_dict=feed_dict))"
   ]
  }
 ],
 "metadata": {
  "kernelspec": {
   "display_name": "Python 3",
   "language": "python",
   "name": "python3"
  },
  "language_info": {
   "codemirror_mode": {
    "name": "ipython",
    "version": 3
   },
   "file_extension": ".py",
   "mimetype": "text/x-python",
   "name": "python",
   "nbconvert_exporter": "python",
   "pygments_lexer": "ipython3",
   "version": "3.6.6"
  }
 },
 "nbformat": 4,
 "nbformat_minor": 2
}
