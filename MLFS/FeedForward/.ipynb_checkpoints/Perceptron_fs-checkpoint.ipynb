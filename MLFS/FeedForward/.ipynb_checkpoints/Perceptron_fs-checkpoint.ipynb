{
 "cells": [
  {
   "cell_type": "markdown",
   "metadata": {},
   "source": [
    "# Perceptron\n",
    "### From scratch"
   ]
  },
  {
   "cell_type": "markdown",
   "metadata": {},
   "source": [
    "## Imports"
   ]
  },
  {
   "cell_type": "code",
   "execution_count": null,
   "metadata": {},
   "outputs": [],
   "source": [
    "import numpy as np\n",
    "from bokeh.plotting import figure, output_file, show"
   ]
  },
  {
   "cell_type": "markdown",
   "metadata": {},
   "source": [
    "## Methods"
   ]
  },
  {
   "cell_type": "code",
   "execution_count": 5,
   "metadata": {},
   "outputs": [],
   "source": [
    "def perceptron(x, w):\n",
    "    return (x @ w >= 0).astype(int)\n",
    "\n",
    "def train(x, y, w):\n",
    "    for i in range(len(x)):\n",
    "        # evaluate perceptron\n",
    "        h = perceptron(x[i, :], w)\n",
    "        \n",
    "        # misclassification\n",
    "        if h != y[i]:\n",
    "            # positive sample\n",
    "            if y[i] == 1: w += x[i, :]\n",
    "            # negative sample\n",
    "            else: w -= x[i, :]\n",
    "    \n",
    "    # evaluate\n",
    "    return perceptron(x, w)"
   ]
  },
  {
   "cell_type": "markdown",
   "metadata": {},
   "source": [
    "## Test"
   ]
  },
  {
   "cell_type": "code",
   "execution_count": 2,
   "metadata": {},
   "outputs": [
    {
     "name": "stdout",
     "output_type": "stream",
     "text": [
      "y= [1 1 1 0 0]\n",
      "w= [ 0.  0. -2.] acc= 0.4\n",
      "w= [ 1.  1. -2.] acc= 0.6\n",
      "w= [ 2.  1. -2.] acc= 0.8\n",
      "w= [ 2.  2. -1.] acc= 1.0\n",
      "w= [ 2.  2. -1.] acc= 1.0\n"
     ]
    }
   ],
   "source": [
    "# prepare some data\n",
    "x = [1, 2, 3, 4, 5]\n",
    "y = [6, 7, 2, 4, 5]\n",
    "\n",
    "# output to static HTML file\n",
    "output_file(\"lines.html\")\n",
    "\n",
    "# create a new plot with a title and axis labels\n",
    "p = figure(title=\"simple line example\", x_axis_label='x', y_axis_label='y')\n",
    "\n",
    "# add a line renderer with legend and line thickness\n",
    "p.line(x, y, legend=\"Temp.\", line_width=2)\n",
    "\n",
    "# show the results\n",
    "show(p)\n",
    "\n",
    "X = np.array([[0, 1, 1], [1, 0, 1], [1, 1, 1], [-1, 1, 1], [1, -1, 1]])\n",
    "Y = np.array([1, 1, 1, 0, 0])\n",
    "W = np.zeros(3)\n",
    "\n",
    "print('y=', Y)\n",
    "for _ in range(5):\n",
    "    h = train(X, Y, W)\n",
    "    print('w=', W, 'acc=', np.mean(h == Y))\n",
    "\n",
    "\n",
    "color = list(map({0: 'red', 1: 'green'}.__getitem__, Y))\n",
    "x0, y0 = -1.5, (-1.5 * -W[0] - W[2]) / W[1]\n",
    "x1, y1 = 1.5, (1.5 * -W[0] - W[2]) / W[1]\n",
    "\n",
    "output_file(\"perceptron.html\")\n",
    "\n",
    "p = figure()\n",
    "p.circle(x=X[:, 0], y=X[:, 1], color=color, size=10)\n",
    "p.line(x=[x0, x1], y=[y0, y1])\n",
    "show(p)\n"
   ]
  }
 ],
 "metadata": {
  "kernelspec": {
   "display_name": "Python 3",
   "language": "python",
   "name": "python3"
  },
  "language_info": {
   "codemirror_mode": {
    "name": "ipython",
    "version": 3
   },
   "file_extension": ".py",
   "mimetype": "text/x-python",
   "name": "python",
   "nbconvert_exporter": "python",
   "pygments_lexer": "ipython3",
   "version": "3.6.6"
  }
 },
 "nbformat": 4,
 "nbformat_minor": 2
}
