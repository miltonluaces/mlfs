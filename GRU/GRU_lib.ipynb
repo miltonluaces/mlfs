{
 "cells": [
  {
   "cell_type": "markdown",
   "metadata": {},
   "source": [
    "# GRU Gated Recurrent Unit\n",
    "### Using libraries : $\\textit{neupy}$"
   ]
  },
  {
   "cell_type": "markdown",
   "metadata": {},
   "source": [
    "## Imports"
   ]
  },
  {
   "cell_type": "markdown",
   "metadata": {},
   "source": [
    " ![](gru.png)"
   ]
  },
  {
   "cell_type": "code",
   "execution_count": 2,
   "metadata": {},
   "outputs": [],
   "source": [
    "from utilities.std_imports import *\n",
    "\n",
    "from sklearn.model_selection import train_test_split\n",
    "from neupy import algorithms, layers\n",
    "from neupy.datasets import reber"
   ]
  },
  {
   "cell_type": "markdown",
   "metadata": {},
   "source": [
    "## Testing"
   ]
  },
  {
   "cell_type": "code",
   "execution_count": 1,
   "metadata": {},
   "outputs": [
    {
     "name": "stdout",
     "output_type": "stream",
     "text": [
      "\n",
      "Main information\n",
      "\n",
      "[ALGORITHM] RMSProp\n",
      "\n",
      "[OPTION] batch_size = 64\n",
      "[OPTION] centered = False\n",
      "[OPTION] decay = 0.95\n",
      "[OPTION] epsilon = 1e-07\n",
      "[OPTION] loss = binary_crossentropy\n",
      "[OPTION] momentum = 0\n",
      "[OPTION] regularizer = None\n",
      "[OPTION] show_epoch = 1\n",
      "[OPTION] shuffle_data = False\n",
      "[OPTION] signals = None\n",
      "[OPTION] step = 0.01\n",
      "[OPTION] target = Tensor(\"placeholder/target/sigmoid-1:0\", shape=(?, 1), dtype=float32)\n",
      "[OPTION] verbose = True\n",
      "\n",
      "[TENSORFLOW] Initializing Tensorflow variables and functions.\n"
     ]
    },
    {
     "name": "stderr",
     "output_type": "stream",
     "text": [
      "Time: 0:00:00 |N/A%|                            | ETA:  --:--:-- | loss: ------"
     ]
    },
    {
     "name": "stdout",
     "output_type": "stream",
     "text": [
      "[TENSORFLOW] Initialization finished successfully. It took 3.14 seconds\n"
     ]
    },
    {
     "name": "stderr",
     "output_type": "stream",
     "text": []
    },
    {
     "name": "stderr",
     "output_type": "stream",
     "text": [
      "Time: 0:00:00 | 16%|####                         | ETA:  0:00:00 | loss:  0.189"
     ]
    },
    {
     "name": "stdout",
     "output_type": "stream",
     "text": [
      "#1 : [4 sec] train: 0.343149, valid: 0.344356\n"
     ]
    },
    {
     "name": "stderr",
     "output_type": "stream",
     "text": []
    },
    {
     "name": "stderr",
     "output_type": "stream",
     "text": [
      "Time: 0:00:00 | 12%|###                          | ETA:  0:00:00 | loss: 0.0856"
     ]
    },
    {
     "name": "stdout",
     "output_type": "stream",
     "text": [
      "#2 : [998 ms] train: 0.106349, valid: 0.057297\n"
     ]
    },
    {
     "name": "stderr",
     "output_type": "stream",
     "text": []
    },
    {
     "name": "stderr",
     "output_type": "stream",
     "text": [
      "Time: 0:00:00 | 18%|#####                        | ETA:  0:00:00 | loss: 0.0827"
     ]
    },
    {
     "name": "stdout",
     "output_type": "stream",
     "text": [
      "#3 : [1 sec] train: 0.034687, valid: 0.016380\n"
     ]
    },
    {
     "name": "stderr",
     "output_type": "stream",
     "text": []
    },
    {
     "name": "stderr",
     "output_type": "stream",
     "text": [
      "Time: 0:00:00 | 18%|#####                        | ETA:  0:00:00 | loss: 0.0435"
     ]
    },
    {
     "name": "stdout",
     "output_type": "stream",
     "text": [
      "#4 : [988 ms] train: 0.001967, valid: 0.019819\n"
     ]
    },
    {
     "name": "stderr",
     "output_type": "stream",
     "text": []
    },
    {
     "name": "stderr",
     "output_type": "stream",
     "text": [
      "Time: 0:00:00 | 19%|#####                       | ETA:  0:00:00 | loss: 0.00517"
     ]
    },
    {
     "name": "stdout",
     "output_type": "stream",
     "text": [
      "#5 : [1 sec] train: 0.001066, valid: 0.011488\n"
     ]
    },
    {
     "name": "stderr",
     "output_type": "stream",
     "text": []
    },
    {
     "name": "stderr",
     "output_type": "stream",
     "text": [
      "Time: 0:00:00 | 18%|#####                        | ETA:  0:00:00 | loss: 0.0111"
     ]
    },
    {
     "name": "stdout",
     "output_type": "stream",
     "text": [
      "#6 : [984 ms] train: 0.000730, valid: 0.008852\n"
     ]
    },
    {
     "name": "stderr",
     "output_type": "stream",
     "text": []
    },
    {
     "name": "stderr",
     "output_type": "stream",
     "text": [
      "Time: 0:00:00 | 18%|#####                       | ETA:  0:00:00 | loss: 0.00487"
     ]
    },
    {
     "name": "stdout",
     "output_type": "stream",
     "text": [
      "#7 : [1 sec] train: 0.000517, valid: 0.009283\n"
     ]
    },
    {
     "name": "stderr",
     "output_type": "stream",
     "text": []
    },
    {
     "name": "stderr",
     "output_type": "stream",
     "text": []
    },
    {
     "name": "stderr",
     "output_type": "stream",
     "text": [
      "Time: 0:00:00 | 18%|#####                       | ETA:  0:00:00 | loss: 0.00208"
     ]
    },
    {
     "name": "stdout",
     "output_type": "stream",
     "text": [
      "#8 : [1 sec] train: 0.000507, valid: 0.007454\n"
     ]
    },
    {
     "name": "stderr",
     "output_type": "stream",
     "text": []
    },
    {
     "name": "stderr",
     "output_type": "stream",
     "text": [
      "Time: 0:00:00 | 18%|#####                       | ETA:  0:00:00 | loss: 0.00813"
     ]
    },
    {
     "name": "stdout",
     "output_type": "stream",
     "text": [
      "#9 : [984 ms] train: 0.000354, valid: 0.009593\n"
     ]
    },
    {
     "name": "stderr",
     "output_type": "stream",
     "text": []
    },
    {
     "name": "stderr",
     "output_type": "stream",
     "text": [
      "Time: 0:00:00 | 18%|#####                       | ETA:  0:00:00 | loss: 0.00173"
     ]
    },
    {
     "name": "stdout",
     "output_type": "stream",
     "text": [
      "#10 : [979 ms] train: 0.000367, valid: 0.009420\n"
     ]
    },
    {
     "name": "stderr",
     "output_type": "stream",
     "text": []
    },
    {
     "name": "stderr",
     "output_type": "stream",
     "text": [
      "Time: 0:00:00 | 18%|#####                       | ETA:  0:00:00 | loss: 0.00193"
     ]
    },
    {
     "name": "stdout",
     "output_type": "stream",
     "text": [
      "#11 : [973 ms] train: 0.000297, valid: 0.008050\n"
     ]
    },
    {
     "name": "stderr",
     "output_type": "stream",
     "text": []
    },
    {
     "name": "stderr",
     "output_type": "stream",
     "text": [
      "Time: 0:00:00 | 18%|#####                       | ETA:  0:00:00 | loss: 0.00147"
     ]
    },
    {
     "name": "stdout",
     "output_type": "stream",
     "text": [
      "#12 : [989 ms] train: 0.000435, valid: 0.007933\n"
     ]
    },
    {
     "name": "stderr",
     "output_type": "stream",
     "text": []
    },
    {
     "name": "stderr",
     "output_type": "stream",
     "text": [
      "Time: 0:00:00 | 18%|#####                       | ETA:  0:00:00 | loss: 0.00141"
     ]
    },
    {
     "name": "stdout",
     "output_type": "stream",
     "text": [
      "#13 : [974 ms] train: 0.000282, valid: 0.004870\n"
     ]
    },
    {
     "name": "stderr",
     "output_type": "stream",
     "text": []
    },
    {
     "name": "stderr",
     "output_type": "stream",
     "text": [
      "Time: 0:00:00 | 18%|#####                       | ETA:  0:00:00 | loss: 0.00195"
     ]
    },
    {
     "name": "stdout",
     "output_type": "stream",
     "text": [
      "#14 : [971 ms] train: 0.000286, valid: 0.006322\n"
     ]
    },
    {
     "name": "stderr",
     "output_type": "stream",
     "text": []
    },
    {
     "name": "stderr",
     "output_type": "stream",
     "text": [
      "Time: 0:00:00 | 18%|#####                       | ETA:  0:00:00 | loss: 0.00159"
     ]
    },
    {
     "name": "stdout",
     "output_type": "stream",
     "text": [
      "#15 : [974 ms] train: 0.000275, valid: 0.006127\n"
     ]
    },
    {
     "name": "stderr",
     "output_type": "stream",
     "text": []
    },
    {
     "name": "stderr",
     "output_type": "stream",
     "text": [
      "Time: 0:00:00 | 18%|#####                       | ETA:  0:00:00 | loss: 0.00196"
     ]
    },
    {
     "name": "stdout",
     "output_type": "stream",
     "text": [
      "#16 : [987 ms] train: 0.000282, valid: 0.008022\n"
     ]
    },
    {
     "name": "stderr",
     "output_type": "stream",
     "text": []
    },
    {
     "name": "stderr",
     "output_type": "stream",
     "text": [
      "Time: 0:00:00 | 18%|#####                       | ETA:  0:00:00 | loss: 0.00185"
     ]
    },
    {
     "name": "stdout",
     "output_type": "stream",
     "text": [
      "#17 : [997 ms] train: 0.000289, valid: 0.006787\n"
     ]
    },
    {
     "name": "stderr",
     "output_type": "stream",
     "text": []
    },
    {
     "name": "stderr",
     "output_type": "stream",
     "text": [
      "Time: 0:00:00 | 18%|#####                       | ETA:  0:00:00 | loss: 0.00194"
     ]
    },
    {
     "name": "stdout",
     "output_type": "stream",
     "text": [
      "#18 : [993 ms] train: 0.000294, valid: 0.006212\n"
     ]
    },
    {
     "name": "stderr",
     "output_type": "stream",
     "text": []
    },
    {
     "name": "stderr",
     "output_type": "stream",
     "text": [
      "Time: 0:00:00 | 18%|#####                       | ETA:  0:00:00 | loss: 0.00199"
     ]
    },
    {
     "name": "stdout",
     "output_type": "stream",
     "text": [
      "#19 : [997 ms] train: 0.000301, valid: 0.005733\n"
     ]
    },
    {
     "name": "stderr",
     "output_type": "stream",
     "text": []
    },
    {
     "name": "stderr",
     "output_type": "stream",
     "text": [
      "Time: 0:00:00 |N/A%|                                           | ETA:  --:--:--"
     ]
    },
    {
     "name": "stdout",
     "output_type": "stream",
     "text": [
      "#20 : [1 sec] train: 0.000308, valid: 0.005574\n"
     ]
    },
    {
     "name": "stderr",
     "output_type": "stream",
     "text": [
      "Time: 0:00:00 | 71%|###############################             | ETA:  0:00:00"
     ]
    },
    {
     "name": "stdout",
     "output_type": "stream",
     "text": [
      "Test accuracy: 99.90%\n"
     ]
    },
    {
     "name": "stderr",
     "output_type": "stream",
     "text": []
    }
   ],
   "source": [
    "def add_padding(data):\n",
    "    n_sampels = len(data)\n",
    "    max_seq_length = max(map(len, data))\n",
    "\n",
    "    data_matrix = np.zeros((n_sampels, max_seq_length))\n",
    "    for i, sample in enumerate(data):\n",
    "        data_matrix[i, -len(sample):] = sample\n",
    "\n",
    "    return data_matrix\n",
    "\n",
    "\n",
    "# An example of possible values for the `data` and `labels`\n",
    "# variables\n",
    "#\n",
    "# >>> data\n",
    "# array([array([1, 3, 1, 4]),\n",
    "#        array([0, 3, 0, 3, 0, 4, 3, 0, 4, 4]),\n",
    "#        array([0, 3, 0, 0, 3, 0, 4, 2, 4, 1, 0, 4, 0])], dtype=object)\n",
    "# >>>\n",
    "# >>> labels\n",
    "# array([1, 0, 0])\n",
    "data, labels = reber.make_reber_classification(\n",
    "    n_samples=10000, return_indices=True)\n",
    "\n",
    "# Shift all indices by 1. In the next row we will add zero\n",
    "# paddings, so we need to make sure that we will not confuse\n",
    "# paddings with zero indices.\n",
    "data = data + 1\n",
    "\n",
    "# Add paddings at the beggining of each vector to make sure\n",
    "# that all samples has the same length. This trick allows to\n",
    "# train network with multiple independent samples.\n",
    "data = add_padding(data)\n",
    "\n",
    "x_train, x_test, y_train, y_test = train_test_split(\n",
    "    data, labels, test_size=0.2)\n",
    "\n",
    "n_categories = len(reber.avaliable_letters) + 1  # +1 for zero paddings\n",
    "n_time_steps = x_train.shape[1]\n",
    "\n",
    "optimizer = algorithms.RMSProp(\n",
    "    [\n",
    "        layers.Input(n_time_steps),\n",
    "        # shape: (n_samples, n_time_steps)\n",
    "\n",
    "        layers.Embedding(n_categories, 10),\n",
    "        # shape: (n_samples, n_time_steps, 10)\n",
    "\n",
    "        # unroll_scan - speed up calculation for short sequences\n",
    "        layers.GRU(20, unroll_scan=True),\n",
    "        # shape: (n_samples, 20)\n",
    "\n",
    "        layers.Sigmoid(1),\n",
    "        # shape: (n_samples, 1)\n",
    "    ],\n",
    "    step=0.01,\n",
    "    verbose=True,\n",
    "    batch_size=64,\n",
    "    loss='binary_crossentropy',\n",
    ")\n",
    "optimizer.train(x_train, y_train, x_test, y_test, epochs=20)\n",
    "\n",
    "y_predicted = optimizer.predict(x_test).round()\n",
    "accuracy = (y_predicted.T == y_test).mean()\n",
    "print(\"Test accuracy: {:.2%}\".format(accuracy))"
   ]
  },
  {
   "cell_type": "code",
   "execution_count": null,
   "metadata": {},
   "outputs": [],
   "source": []
  }
 ],
 "metadata": {
  "kernelspec": {
   "display_name": "Python 3",
   "language": "python",
   "name": "python3"
  },
  "language_info": {
   "codemirror_mode": {
    "name": "ipython",
    "version": 3
   },
   "file_extension": ".py",
   "mimetype": "text/x-python",
   "name": "python",
   "nbconvert_exporter": "python",
   "pygments_lexer": "ipython3",
   "version": "3.8.6"
  }
 },
 "nbformat": 4,
 "nbformat_minor": 4
}
