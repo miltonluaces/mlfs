{
 "cells": [
  {
   "cell_type": "markdown",
   "metadata": {},
   "source": [
    "# PSO Particle Swarm Optimization\n",
    "### Using libraries : $\\textit{pyswarm}$"
   ]
  },
  {
   "cell_type": "code",
   "execution_count": 2,
   "metadata": {},
   "outputs": [],
   "source": [
    "from utilities.std_imports import *\n",
    "from pyswarm import pso"
   ]
  },
  {
   "cell_type": "markdown",
   "metadata": {},
   "source": [
    "## Testing"
   ]
  },
  {
   "cell_type": "code",
   "execution_count": 4,
   "metadata": {},
   "outputs": [
    {
     "name": "stdout",
     "output_type": "stream",
     "text": [
      "Stopping search: Swarm best objective change less than 1e-08\n",
      "[0.50212643 0.75425892] 4.50001059354655\n"
     ]
    }
   ],
   "source": [
    "# Function to optimize\n",
    "def func1(x):\n",
    "    x1 = x[0]\n",
    "    x2 = x[1]\n",
    "    return x1**4 - 2*x2*x1**2 + x2**2 + x1**2 - 2*x1 + 5\n",
    "\n",
    "# Constraints function\n",
    "def constraints(x):\n",
    "    x1 = x[0]\n",
    "    x2 = x[1]\n",
    "    return [-(x1 + 0.25)**2 + 0.75*x2]\n",
    "\n",
    "# Bounds \n",
    "lwrBound = [-3, -1]\n",
    "uprBound = [2, 6]\n",
    "\n",
    "xOpt, fOpt = pso(func1, lwrBound, uprBound, f_ieqcons=constraints)\n",
    "print(xOpt, fOpt)"
   ]
  },
  {
   "cell_type": "code",
   "execution_count": null,
   "metadata": {},
   "outputs": [],
   "source": []
  }
 ],
 "metadata": {
  "kernelspec": {
   "display_name": "Python 3",
   "language": "python",
   "name": "python3"
  },
  "language_info": {
   "codemirror_mode": {
    "name": "ipython",
    "version": 3
   },
   "file_extension": ".py",
   "mimetype": "text/x-python",
   "name": "python",
   "nbconvert_exporter": "python",
   "pygments_lexer": "ipython3",
   "version": "3.8.6"
  }
 },
 "nbformat": 4,
 "nbformat_minor": 4
}
